{
 "cells": [
  {
   "cell_type": "markdown",
   "metadata": {
    "deletable": false,
    "editable": false,
    "id": "E0vqbgi9ay0H"
   },
   "source": [
    "# Музыка"
   ]
  },
  {
   "cell_type": "markdown",
   "metadata": {
    "deletable": false,
    "editable": false,
    "id": "VUC88oWjTJw2"
   },
   "source": [
    "Сравнение Москвы и Петербурга окружено мифами. Например:\n",
    " * Москва — мегаполис, подчинённый жёсткому ритму рабочей недели;\n",
    " * Петербург — культурная столица, со своими вкусами.\n",
    "\n",
    "На данных Музыки вы сравните поведение пользователей двух столиц.\n",
    "\n",
    "**Цель исследования** — проверьте три гипотезы:\n",
    "1. Активность пользователей зависит от дня недели. Причём в Москве и Петербурге это проявляется по-разному.\n",
    "2. В понедельник утром в Москве преобладают одни жанры, а в Петербурге — другие. Так же и вечером пятницы преобладают разные жанры — в зависимости от города. \n",
    "3. Москва и Петербург предпочитают разные жанры музыки. В Москве чаще слушают поп-музыку, в Петербурге — русский рэп.\n",
    "\n",
    "**Ход исследования**\n",
    "\n",
    "Данные о поведении пользователей вы получите из файла `yandex_music_project.csv`. О качестве данных ничего не известно. Поэтому перед проверкой гипотез понадобится обзор данных. \n",
    "\n",
    "Вы проверите данные на ошибки и оцените их влияние на исследование. Затем, на этапе предобработки вы поищете возможность исправить самые критичные ошибки данных.\n",
    " \n",
    "Таким образом, исследование пройдёт в три этапа:\n",
    " 1. Обзор данных.\n",
    " 2. Предобработка данных.\n",
    " 3. Проверка гипотез.\n",
    "\n"
   ]
  },
  {
   "cell_type": "markdown",
   "metadata": {
    "deletable": false,
    "editable": false,
    "id": "Ml1hmfXC_Zcs"
   },
   "source": [
    "## Обзор данных\n",
    "\n",
    "Составьте первое представление о данных Яндекс Музыки.\n",
    "\n",
    "\n"
   ]
  },
  {
   "cell_type": "markdown",
   "metadata": {
    "deletable": false,
    "editable": false,
    "id": "57eAOGIz_Zcs",
    "tags": [
     "start_task"
    ]
   },
   "source": [
    "**Задание 1**\n",
    "\n",
    "Основной инструмент аналитика — `pandas`. Импортируйте эту библиотеку."
   ]
  },
  {
   "cell_type": "code",
   "execution_count": 2,
   "metadata": {
    "ExecuteTime": {
     "end_time": "2025-03-03T10:20:11.766952Z",
     "start_time": "2025-03-03T10:20:11.765695Z"
    },
    "deletable": false,
    "id": "AXN7PHPN_Zcs"
   },
   "outputs": [],
   "source": [
    "import pandas as pd"
   ]
  },
  {
   "cell_type": "markdown",
   "metadata": {
    "deletable": false,
    "editable": false,
    "id": "SG23P8tt_Zcs",
    "tags": [
     "start_task"
    ]
   },
   "source": [
    "**Задание 2**\n",
    "\n",
    "Прочитайте файл `yandex_music_project.csv` из папки `/datasets` и сохраните его в переменной `df`:"
   ]
  },
  {
   "cell_type": "code",
   "execution_count": 3,
   "metadata": {
    "ExecuteTime": {
     "end_time": "2025-03-03T10:20:11.777829Z",
     "start_time": "2025-03-03T10:20:11.776613Z"
    },
    "deletable": false,
    "id": "fFVu7vqh_Zct"
   },
   "outputs": [],
   "source": [
    "df = pd.read_csv(r\"C:\\Users\\VITYA\\OneDrive\\Рабочий стол\\╨г╤А╨╛╨║ 5. ╨Я╤А╨╛╨╡╨║╤В\\yandex_music_project.csv\")"
   ]
  },
  {
   "cell_type": "markdown",
   "metadata": {
    "deletable": false,
    "editable": false,
    "id": "rDoOMd3uTqnZ",
    "tags": [
     "start_task"
    ]
   },
   "source": [
    "**Задание 3**\n",
    "\n",
    "\n",
    "Выведите на экран первые десять строк таблицы:"
   ]
  },
  {
   "cell_type": "code",
   "execution_count": 4,
   "metadata": {
    "ExecuteTime": {
     "end_time": "2025-03-03T10:20:11.785351Z",
     "start_time": "2025-03-03T10:20:11.783468Z"
    },
    "deletable": false,
    "id": "oWTVX3gW_Zct"
   },
   "outputs": [
    {
     "data": {
      "text/html": [
       "<div>\n",
       "<style scoped>\n",
       "    .dataframe tbody tr th:only-of-type {\n",
       "        vertical-align: middle;\n",
       "    }\n",
       "\n",
       "    .dataframe tbody tr th {\n",
       "        vertical-align: top;\n",
       "    }\n",
       "\n",
       "    .dataframe thead th {\n",
       "        text-align: right;\n",
       "    }\n",
       "</style>\n",
       "<table border=\"1\" class=\"dataframe\">\n",
       "  <thead>\n",
       "    <tr style=\"text-align: right;\">\n",
       "      <th></th>\n",
       "      <th>userID</th>\n",
       "      <th>Track</th>\n",
       "      <th>artist</th>\n",
       "      <th>genre</th>\n",
       "      <th>City</th>\n",
       "      <th>time</th>\n",
       "      <th>Day</th>\n",
       "    </tr>\n",
       "  </thead>\n",
       "  <tbody>\n",
       "    <tr>\n",
       "      <th>0</th>\n",
       "      <td>FFB692EC</td>\n",
       "      <td>Kamigata To Boots</td>\n",
       "      <td>The Mass Missile</td>\n",
       "      <td>rock</td>\n",
       "      <td>Saint-Petersburg</td>\n",
       "      <td>20:28:33</td>\n",
       "      <td>Wednesday</td>\n",
       "    </tr>\n",
       "    <tr>\n",
       "      <th>1</th>\n",
       "      <td>55204538</td>\n",
       "      <td>Delayed Because of Accident</td>\n",
       "      <td>Andreas Rönnberg</td>\n",
       "      <td>rock</td>\n",
       "      <td>Moscow</td>\n",
       "      <td>14:07:09</td>\n",
       "      <td>Friday</td>\n",
       "    </tr>\n",
       "    <tr>\n",
       "      <th>2</th>\n",
       "      <td>20EC38</td>\n",
       "      <td>Funiculì funiculà</td>\n",
       "      <td>Mario Lanza</td>\n",
       "      <td>pop</td>\n",
       "      <td>Saint-Petersburg</td>\n",
       "      <td>20:58:07</td>\n",
       "      <td>Wednesday</td>\n",
       "    </tr>\n",
       "    <tr>\n",
       "      <th>3</th>\n",
       "      <td>A3DD03C9</td>\n",
       "      <td>Dragons in the Sunset</td>\n",
       "      <td>Fire + Ice</td>\n",
       "      <td>folk</td>\n",
       "      <td>Saint-Petersburg</td>\n",
       "      <td>08:37:09</td>\n",
       "      <td>Monday</td>\n",
       "    </tr>\n",
       "    <tr>\n",
       "      <th>4</th>\n",
       "      <td>E2DC1FAE</td>\n",
       "      <td>Soul People</td>\n",
       "      <td>Space Echo</td>\n",
       "      <td>dance</td>\n",
       "      <td>Moscow</td>\n",
       "      <td>08:34:34</td>\n",
       "      <td>Monday</td>\n",
       "    </tr>\n",
       "    <tr>\n",
       "      <th>5</th>\n",
       "      <td>842029A1</td>\n",
       "      <td>Преданная</td>\n",
       "      <td>IMPERVTOR</td>\n",
       "      <td>rusrap</td>\n",
       "      <td>Saint-Petersburg</td>\n",
       "      <td>13:09:41</td>\n",
       "      <td>Friday</td>\n",
       "    </tr>\n",
       "    <tr>\n",
       "      <th>6</th>\n",
       "      <td>4CB90AA5</td>\n",
       "      <td>True</td>\n",
       "      <td>Roman Messer</td>\n",
       "      <td>dance</td>\n",
       "      <td>Moscow</td>\n",
       "      <td>13:00:07</td>\n",
       "      <td>Wednesday</td>\n",
       "    </tr>\n",
       "    <tr>\n",
       "      <th>7</th>\n",
       "      <td>F03E1C1F</td>\n",
       "      <td>Feeling This Way</td>\n",
       "      <td>Polina Griffith</td>\n",
       "      <td>dance</td>\n",
       "      <td>Moscow</td>\n",
       "      <td>20:47:49</td>\n",
       "      <td>Wednesday</td>\n",
       "    </tr>\n",
       "    <tr>\n",
       "      <th>8</th>\n",
       "      <td>8FA1D3BE</td>\n",
       "      <td>И вновь продолжается бой</td>\n",
       "      <td>NaN</td>\n",
       "      <td>ruspop</td>\n",
       "      <td>Moscow</td>\n",
       "      <td>09:17:40</td>\n",
       "      <td>Friday</td>\n",
       "    </tr>\n",
       "    <tr>\n",
       "      <th>9</th>\n",
       "      <td>E772D5C0</td>\n",
       "      <td>Pessimist</td>\n",
       "      <td>NaN</td>\n",
       "      <td>dance</td>\n",
       "      <td>Saint-Petersburg</td>\n",
       "      <td>21:20:49</td>\n",
       "      <td>Wednesday</td>\n",
       "    </tr>\n",
       "  </tbody>\n",
       "</table>\n",
       "</div>"
      ],
      "text/plain": [
       "     userID                        Track            artist   genre  \\\n",
       "0  FFB692EC            Kamigata To Boots  The Mass Missile    rock   \n",
       "1  55204538  Delayed Because of Accident  Andreas Rönnberg    rock   \n",
       "2    20EC38            Funiculì funiculà       Mario Lanza     pop   \n",
       "3  A3DD03C9        Dragons in the Sunset        Fire + Ice    folk   \n",
       "4  E2DC1FAE                  Soul People        Space Echo   dance   \n",
       "5  842029A1                    Преданная         IMPERVTOR  rusrap   \n",
       "6  4CB90AA5                         True      Roman Messer   dance   \n",
       "7  F03E1C1F             Feeling This Way   Polina Griffith   dance   \n",
       "8  8FA1D3BE     И вновь продолжается бой               NaN  ruspop   \n",
       "9  E772D5C0                    Pessimist               NaN   dance   \n",
       "\n",
       "             City        time        Day  \n",
       "0  Saint-Petersburg  20:28:33  Wednesday  \n",
       "1            Moscow  14:07:09     Friday  \n",
       "2  Saint-Petersburg  20:58:07  Wednesday  \n",
       "3  Saint-Petersburg  08:37:09     Monday  \n",
       "4            Moscow  08:34:34     Monday  \n",
       "5  Saint-Petersburg  13:09:41     Friday  \n",
       "6            Moscow  13:00:07  Wednesday  \n",
       "7            Moscow  20:47:49  Wednesday  \n",
       "8            Moscow  09:17:40     Friday  \n",
       "9  Saint-Petersburg  21:20:49  Wednesday  "
      ]
     },
     "execution_count": 4,
     "metadata": {},
     "output_type": "execute_result"
    }
   ],
   "source": [
    "df.head(10)"
   ]
  },
  {
   "cell_type": "markdown",
   "metadata": {
    "deletable": false,
    "editable": false,
    "id": "EO73Kwic_Zct",
    "tags": [
     "start_task"
    ]
   },
   "source": [
    "**Задание 4**\n",
    "\n",
    "\n",
    "Одной командой получить общую информацию о таблице c помощью метода `info()`:"
   ]
  },
  {
   "cell_type": "code",
   "execution_count": 5,
   "metadata": {
    "ExecuteTime": {
     "end_time": "2025-03-03T10:20:11.790305Z",
     "start_time": "2025-03-03T10:20:11.789160Z"
    },
    "deletable": false,
    "id": "DSf2kIb-_Zct"
   },
   "outputs": [
    {
     "name": "stdout",
     "output_type": "stream",
     "text": [
      "<class 'pandas.core.frame.DataFrame'>\n",
      "RangeIndex: 65079 entries, 0 to 65078\n",
      "Data columns (total 7 columns):\n",
      " #   Column    Non-Null Count  Dtype \n",
      "---  ------    --------------  ----- \n",
      " 0     userID  65079 non-null  object\n",
      " 1   Track     63848 non-null  object\n",
      " 2   artist    57876 non-null  object\n",
      " 3   genre     63881 non-null  object\n",
      " 4     City    65079 non-null  object\n",
      " 5   time      65079 non-null  object\n",
      " 6   Day       65079 non-null  object\n",
      "dtypes: object(7)\n",
      "memory usage: 3.5+ MB\n"
     ]
    }
   ],
   "source": [
    "df.info()"
   ]
  },
  {
   "cell_type": "markdown",
   "metadata": {
    "deletable": false,
    "editable": false,
    "id": "TaQ2Iwbr_Zct"
   },
   "source": []
  },
  {
   "cell_type": "markdown",
   "metadata": {
    "deletable": false,
    "editable": false,
    "id": "rAfziTBDmf2h",
    "tags": [
     "start_task"
    ]
   },
   "source": [
    "**Задание 5**\n",
    "\n",
    "**Вопрос со свободной формой ответа**\n",
    "\n",
    "В названиях колонок видны нарушения стиля:\n",
    "* Строчные буквы сочетаются с прописными.\n",
    "* Встречаются пробелы.\n",
    "\n",
    "Какое третье нарушение?"
   ]
  },
  {
   "cell_type": "code",
   "execution_count": 6,
   "metadata": {
    "ExecuteTime": {
     "end_time": "2025-03-03T10:20:11.796233Z",
     "start_time": "2025-03-03T10:20:11.794818Z"
    },
    "id": "jD8EXEIvmf2h"
   },
   "outputs": [],
   "source": [
    "df = df.rename(columns = {\"  userID\":\"userID\"})#camel case\n",
    "df = df.rename(columns = {\"Day\":\"day\"})\n",
    "df = df.rename(columns = {\"Track\":\"track\"})\n",
    "df = df.rename(columns = {\"  City  \":\"city\"})\n",
    "\n",
    "   \n",
    "\n"
   ]
  },
  {
   "cell_type": "markdown",
   "metadata": {
    "deletable": false,
    "editable": false,
    "id": "MCB6-dXG_Zct"
   },
   "source": [
    "**Выводы**\n",
    "\n",
    "В каждой строке таблицы — данные о прослушанном треке. Часть колонок описывает саму композицию: название, исполнителя и жанр. Остальные данные рассказывают о пользователе: из какого он города, когда он слушал музыку. \n",
    "\n",
    "Предварительно можно утверждать, что данных достаточно для проверки гипотез. Но встречаются пропуски в данных, а в названиях колонок — расхождения с хорошим стилем.\n",
    "\n",
    "Чтобы двигаться дальше, нужно устранить проблемы в данных."
   ]
  },
  {
   "cell_type": "markdown",
   "metadata": {
    "deletable": false,
    "editable": false,
    "id": "SjYF6Ub9_Zct"
   },
   "source": [
    "## Предобработка данных\n",
    "Исправьте стиль в заголовках столбцов, исключите пропуски. Затем проверьте данные на дубликаты."
   ]
  },
  {
   "cell_type": "markdown",
   "metadata": {
    "deletable": false,
    "editable": false,
    "id": "dIaKXr29_Zct",
    "tags": [
     "start_task"
    ]
   },
   "source": [
    "### Стиль заголовков\n",
    "\n",
    "**Задание 6**\n",
    "\n",
    "Выведите на экран названия столбцов:"
   ]
  },
  {
   "cell_type": "code",
   "execution_count": 7,
   "metadata": {
    "ExecuteTime": {
     "end_time": "2025-03-03T10:20:11.801600Z",
     "start_time": "2025-03-03T10:20:11.800235Z"
    },
    "deletable": false,
    "id": "oKOTdF_Q_Zct"
   },
   "outputs": [
    {
     "name": "stdout",
     "output_type": "stream",
     "text": [
      "<class 'pandas.core.frame.DataFrame'>\n",
      "RangeIndex: 65079 entries, 0 to 65078\n",
      "Data columns (total 7 columns):\n",
      " #   Column  Non-Null Count  Dtype \n",
      "---  ------  --------------  ----- \n",
      " 0   userID  65079 non-null  object\n",
      " 1   track   63848 non-null  object\n",
      " 2   artist  57876 non-null  object\n",
      " 3   genre   63881 non-null  object\n",
      " 4   city    65079 non-null  object\n",
      " 5   time    65079 non-null  object\n",
      " 6   day     65079 non-null  object\n",
      "dtypes: object(7)\n",
      "memory usage: 3.5+ MB\n"
     ]
    }
   ],
   "source": [
    "df = df.rename(columns= {\"  City\": \"City\"})\n",
    "df.info()"
   ]
  },
  {
   "cell_type": "markdown",
   "metadata": {
    "deletable": false,
    "editable": false,
    "id": "zj5534cv_Zct",
    "tags": [
     "start_task"
    ]
   },
   "source": [
    "**Задание 7**\n",
    "\n",
    "\n",
    "Приведите названия в соответствие с хорошим стилем:\n",
    "* несколько слов в названии запишите в «змеином_регистре»,\n",
    "* все символы сделайте строчными,\n",
    "* устраните пробелы.\n",
    "\n",
    "Для этого переименуйте колонки так:\n",
    "* `'  userID'` → `'user_id'`;\n",
    "* `'Track'` → `'track'`;\n",
    "* `'  City  '` → `'city'`;\n",
    "* `'Day'` → `'day'`."
   ]
  },
  {
   "cell_type": "code",
   "execution_count": 40,
   "metadata": {
    "ExecuteTime": {
     "end_time": "2025-03-03T10:20:11.809577Z",
     "start_time": "2025-03-03T10:20:11.808109Z"
    },
    "deletable": false,
    "id": "ISlFqs5y_Zct"
   },
   "outputs": [],
   "source": [
    "df = df.rename(columns = {\"userID\":\"user_id\" })"
   ]
  },
  {
   "cell_type": "markdown",
   "metadata": {
    "deletable": false,
    "editable": false,
    "id": "1dqbh00J_Zct",
    "tags": [
     "start_task"
    ]
   },
   "source": [
    "**Задание 8**\n",
    "\n",
    "\n",
    "Проверьте результат. Для этого ещё раз выведите на экран названия столбцов:"
   ]
  },
  {
   "cell_type": "code",
   "execution_count": 9,
   "metadata": {
    "ExecuteTime": {
     "end_time": "2025-03-03T10:20:11.822605Z",
     "start_time": "2025-03-03T10:20:11.821284Z"
    },
    "deletable": false,
    "id": "d4NOAmTW_Zct"
   },
   "outputs": [
    {
     "data": {
      "text/plain": [
       "Index(['user_id', 'track', 'artist', 'genre', 'city', 'time', 'day'], dtype='object')"
      ]
     },
     "execution_count": 9,
     "metadata": {},
     "output_type": "execute_result"
    }
   ],
   "source": [
    "df.columns"
   ]
  },
  {
   "cell_type": "markdown",
   "metadata": {
    "deletable": false,
    "editable": false,
    "id": "5ISfbcfY_Zct",
    "tags": [
     "start_task"
    ]
   },
   "source": [
    "### Пропуски значений\n",
    "\n",
    "**Задание 9**\n",
    "\n",
    "Сначала посчитайте, сколько в таблице пропущенных значений. Для этого достаточно двух методов `pandas`:"
   ]
  },
  {
   "cell_type": "code",
   "execution_count": 10,
   "metadata": {
    "ExecuteTime": {
     "end_time": "2025-03-03T10:20:11.837875Z",
     "start_time": "2025-03-03T10:20:11.836604Z"
    },
    "deletable": false,
    "id": "RskX29qr_Zct"
   },
   "outputs": [
    {
     "data": {
      "text/plain": [
       "user_id       0\n",
       "track      1231\n",
       "artist     7203\n",
       "genre      1198\n",
       "city          0\n",
       "time          0\n",
       "day           0\n",
       "dtype: int64"
      ]
     },
     "execution_count": 10,
     "metadata": {},
     "output_type": "execute_result"
    }
   ],
   "source": [
    "df.isna().sum()"
   ]
  },
  {
   "cell_type": "markdown",
   "metadata": {
    "deletable": false,
    "editable": false,
    "id": "qubhgnlO_Zct"
   },
   "source": [
    "Не все пропущенные значения влияют на исследование. Так в `track` и `artist` пропуски не важны для вашей работы. Достаточно заменить их явными обозначениями.\n",
    "\n",
    "Но пропуски в `genre` могут помешать сравнению музыкальных вкусов в Москве и Санкт-Петербурге. На практике было бы правильно установить причину пропусков и восстановить данные. Такой возможности нет в учебном проекте. Придётся:\n",
    "* заполнить и эти пропуски явными обозначениями;\n",
    "* оценить, насколько они повредят расчётам. "
   ]
  },
  {
   "cell_type": "markdown",
   "metadata": {
    "deletable": false,
    "editable": false,
    "id": "fSv2laPA_Zct",
    "tags": [
     "start_task"
    ]
   },
   "source": [
    "**Задание 10**\n",
    "\n",
    "Замените пропущенные значения в столбцах `track`, `artist` и `genre` на строку `'unknown'`. Для этого создайте список `columns_to_replace`, переберите его элементы циклом `for` и для каждого столбца выполните замену пропущенных значений:"
   ]
  },
  {
   "cell_type": "code",
   "execution_count": 11,
   "metadata": {
    "ExecuteTime": {
     "end_time": "2025-03-03T10:20:11.849967Z",
     "start_time": "2025-03-03T10:20:11.848665Z"
    },
    "deletable": false,
    "id": "KplB5qWs_Zct"
   },
   "outputs": [],
   "source": [
    "\n",
    "columns_to_replace = [\"track\", \"artist\", \"genre\"]\n",
    "for i in columns_to_replace:\n",
    "    df[i] = df[i].fillna(\"unknown\")\n"
   ]
  },
  {
   "cell_type": "markdown",
   "metadata": {
    "deletable": false,
    "editable": false,
    "id": "Ilsm-MZo_Zct",
    "tags": [
     "start_task"
    ]
   },
   "source": [
    "**Задание 11**\n",
    "\n",
    "Убедитесь, что в таблице не осталось пропусков. Для этого ещё раз посчитайте пропущенные значения."
   ]
  },
  {
   "cell_type": "code",
   "execution_count": 12,
   "metadata": {
    "ExecuteTime": {
     "end_time": "2025-03-03T10:20:11.857778Z",
     "start_time": "2025-03-03T10:20:11.856297Z"
    },
    "deletable": false,
    "id": "Tq4nYRX4_Zct"
   },
   "outputs": [
    {
     "data": {
      "text/plain": [
       "user_id    0\n",
       "track      0\n",
       "artist     0\n",
       "genre      0\n",
       "city       0\n",
       "time       0\n",
       "day        0\n",
       "dtype: int64"
      ]
     },
     "execution_count": 12,
     "metadata": {},
     "output_type": "execute_result"
    }
   ],
   "source": [
    "df.isna().sum()"
   ]
  },
  {
   "cell_type": "markdown",
   "metadata": {
    "deletable": false,
    "editable": false,
    "id": "BWKRtBJ3_Zct",
    "tags": [
     "start_task"
    ]
   },
   "source": [
    "### Дубликаты\n",
    "\n",
    "**Задание 12**\n",
    "\n",
    "Посчитайте явные дубликаты в таблице одной командой:"
   ]
  },
  {
   "cell_type": "code",
   "execution_count": 13,
   "metadata": {
    "ExecuteTime": {
     "end_time": "2025-03-03T10:20:11.866873Z",
     "start_time": "2025-03-03T10:20:11.865579Z"
    },
    "deletable": false,
    "id": "36eES_S0_Zct"
   },
   "outputs": [
    {
     "data": {
      "text/plain": [
       "np.int64(3826)"
      ]
     },
     "execution_count": 13,
     "metadata": {},
     "output_type": "execute_result"
    }
   ],
   "source": [
    "df.duplicated().sum()\n"
   ]
  },
  {
   "cell_type": "markdown",
   "metadata": {
    "deletable": false,
    "editable": false,
    "id": "Ot25h6XR_Zct",
    "tags": [
     "start_task"
    ]
   },
   "source": [
    "**Задание 13**\n",
    "\n",
    "Вызовите специальный метод `pandas`, чтобы удалить явные дубликаты:"
   ]
  },
  {
   "cell_type": "code",
   "execution_count": 41,
   "metadata": {
    "ExecuteTime": {
     "end_time": "2025-03-03T10:20:11.879277Z",
     "start_time": "2025-03-03T10:20:11.877789Z"
    },
    "deletable": false,
    "id": "exFHq6tt_Zct"
   },
   "outputs": [],
   "source": [
    "df.drop_duplicates(inplace = True)"
   ]
  },
  {
   "cell_type": "markdown",
   "metadata": {
    "deletable": false,
    "editable": false,
    "id": "Im2YwBEG_Zct",
    "tags": [
     "start_task"
    ]
   },
   "source": [
    "**Задание 14**\n",
    "\n",
    "Ещё раз посчитайте явные дубликаты в таблице — убедитесь, что полностью от них избавились:"
   ]
  },
  {
   "cell_type": "code",
   "execution_count": 42,
   "metadata": {
    "ExecuteTime": {
     "end_time": "2025-03-03T10:20:11.889446Z",
     "start_time": "2025-03-03T10:20:11.888140Z"
    },
    "deletable": false,
    "id": "-8PuNWQ0_Zct"
   },
   "outputs": [
    {
     "data": {
      "text/plain": [
       "np.int64(0)"
      ]
     },
     "execution_count": 42,
     "metadata": {},
     "output_type": "execute_result"
    }
   ],
   "source": [
    "df.duplicated().sum()"
   ]
  },
  {
   "cell_type": "markdown",
   "metadata": {
    "deletable": false,
    "editable": false,
    "id": "QlFBsxAr_Zct"
   },
   "source": [
    "Теперь избавьтесь от неявных дубликатов в колонке `genre`. Например, название одного и того же жанра может быть записано немного по-разному. Такие ошибки тоже повлияют на результат исследования."
   ]
  },
  {
   "cell_type": "markdown",
   "metadata": {
    "deletable": false,
    "editable": false,
    "id": "eSjWwsOh_Zct",
    "tags": [
     "start_task"
    ]
   },
   "source": [
    "**Задание 15**\n",
    "\n",
    "Выведите на экран список уникальных названий жанров, отсортированный в алфавитном порядке. Для этого:\n",
    "1. извлеките нужный столбец датафрейма; \n",
    "2. примените к нему метод сортировки;\n",
    "3. для отсортированного столбца вызовите метод, который вернёт уникальные значения из столбца."
   ]
  },
  {
   "cell_type": "code",
   "execution_count": 16,
   "metadata": {
    "ExecuteTime": {
     "end_time": "2025-03-03T10:20:11.899628Z",
     "start_time": "2025-03-03T10:20:11.898354Z"
    },
    "deletable": false,
    "id": "JIUcqzZN_Zct"
   },
   "outputs": [
    {
     "data": {
      "text/plain": [
       "32883           acid\n",
       "31548       acoustic\n",
       "39129       acoustic\n",
       "14811       acoustic\n",
       "3650        acoustic\n",
       "            ...     \n",
       "3292           world\n",
       "28665      worldbeat\n",
       "40493      worldbeat\n",
       "8514             ïîï\n",
       "6501     электроника\n",
       "Name: genre, Length: 65079, dtype: object"
      ]
     },
     "execution_count": 16,
     "metadata": {},
     "output_type": "execute_result"
    }
   ],
   "source": [
    "df[\"genre\"].sort_values()"
   ]
  },
  {
   "cell_type": "markdown",
   "metadata": {
    "deletable": false,
    "editable": false,
    "id": "qej-Qmuo_Zct",
    "tags": [
     "start_task"
    ]
   },
   "source": [
    "**Задание 16**\n",
    "\n",
    "Просмотрите список и найдите неявные дубликаты названия `hiphop`. Это могут быть названия с ошибками или альтернативные названия того же жанра.\n",
    "\n",
    "Вы увидите следующие неявные дубликаты:\n",
    "* *hip*,\n",
    "* *hop*,\n",
    "* *hip-hop*.\n",
    "\n",
    "Чтобы очистить от них таблицу используйте метод `replace()` с двумя аргументами: списком строк-дубликатов (включащий *hip*, *hop* и *hip-hop*) и строкой с правильным значением. Вам нужно исправить колонку `genre` в таблице `df`: заменить каждое значение из списка дубликатов на верное. Вместо `hip`, `hop` и `hip-hop` в таблице должно быть значение `hiphop`:"
   ]
  },
  {
   "cell_type": "code",
   "execution_count": 17,
   "metadata": {
    "ExecuteTime": {
     "end_time": "2025-03-03T10:20:11.908981Z",
     "start_time": "2025-03-03T10:20:11.907619Z"
    },
    "deletable": false,
    "id": "ErNDkmns_Zct"
   },
   "outputs": [
    {
     "data": {
      "text/plain": [
       "65049           dance\n",
       "65050             pop\n",
       "65051     alternative\n",
       "65052          hiphop\n",
       "65053           metal\n",
       "65054             pop\n",
       "65055       caucasian\n",
       "65056             pop\n",
       "65057     alternative\n",
       "65058             rnb\n",
       "65059      electronic\n",
       "65060            rock\n",
       "65061             rnb\n",
       "65062            punk\n",
       "65063            film\n",
       "65064      electronic\n",
       "65065           world\n",
       "65066        postrock\n",
       "65067            rock\n",
       "65068            jazz\n",
       "65069      electronic\n",
       "65070           dance\n",
       "65071          techno\n",
       "65072    extrememetal\n",
       "65073    extrememetal\n",
       "65074             rnb\n",
       "65075          hiphop\n",
       "65076      industrial\n",
       "65077            rock\n",
       "65078         country\n",
       "Name: genre, dtype: object"
      ]
     },
     "execution_count": 17,
     "metadata": {},
     "output_type": "execute_result"
    }
   ],
   "source": [
    "df.loc[(df[\"genre\"] == \"hip\") | (df[\"genre\"] == \"hop\")|(df[\"genre\"] == \"hip-hop\"), \"genre\"] = \"hiphop\"\n",
    "df[\"genre\"].tail(30)"
   ]
  },
  {
   "cell_type": "markdown",
   "metadata": {
    "deletable": false,
    "editable": false,
    "id": "zQKF16_RG15m",
    "tags": [
     "start_task"
    ]
   },
   "source": [
    "**Задание 17**\n",
    "\n",
    "Проверьте, что заменили неправильные названия:\n",
    "\n",
    "*   hip,\n",
    "*   hop,\n",
    "*   hip-hop.\n",
    "\n",
    "Выведите отсортированный список уникальных значений столбца `genre`:"
   ]
  },
  {
   "cell_type": "code",
   "execution_count": 18,
   "metadata": {
    "ExecuteTime": {
     "end_time": "2025-03-03T10:20:11.915946Z",
     "start_time": "2025-03-03T10:20:11.914533Z"
    },
    "deletable": false,
    "id": "wvixALnFG15m"
   },
   "outputs": [
    {
     "data": {
      "text/plain": [
       "array(['rock', 'pop', 'folk', 'dance', 'rusrap', 'ruspop', 'world',\n",
       "       'electronic', 'unknown', 'alternative', 'children', 'rnb',\n",
       "       'hiphop', 'jazz', 'postrock', 'latin', 'classical', 'metal',\n",
       "       'reggae', 'tatar', 'blues', 'instrumental', 'rusrock', 'dnb',\n",
       "       'türk', 'post', 'country', 'psychedelic', 'conjazz', 'indie',\n",
       "       'posthardcore', 'local', 'avantgarde', 'punk', 'videogame',\n",
       "       'techno', 'house', 'christmas', 'melodic', 'caucasian',\n",
       "       'reggaeton', 'soundtrack', 'singer', 'ska', 'shanson', 'ambient',\n",
       "       'film', 'western', 'rap', 'beats', \"hard'n'heavy\", 'progmetal',\n",
       "       'minimal', 'contemporary', 'new', 'soul', 'holiday', 'german',\n",
       "       'tropical', 'fairytail', 'spiritual', 'urban', 'gospel', 'nujazz',\n",
       "       'folkmetal', 'trance', 'miscellaneous', 'anime', 'hardcore',\n",
       "       'progressive', 'chanson', 'numetal', 'vocal', 'estrada', 'russian',\n",
       "       'classicmetal', 'dubstep', 'club', 'deep', 'southern', 'black',\n",
       "       'folkrock', 'fitness', 'french', 'disco', 'religious', 'drum',\n",
       "       'extrememetal', 'türkçe', 'experimental', 'easy', 'metalcore',\n",
       "       'modern', 'argentinetango', 'old', 'breaks', 'eurofolk',\n",
       "       'stonerrock', 'industrial', 'funk', 'jpop', 'middle', 'variété',\n",
       "       'other', 'adult', 'christian', 'gothic', 'international', 'muslim',\n",
       "       'relax', 'schlager', 'caribbean', 'ukrrock', 'nu', 'breakbeat',\n",
       "       'comedy', 'chill', 'newage', 'specialty', 'uzbek', 'k-pop',\n",
       "       'balkan', 'chinese', 'meditative', 'dub', 'power', 'death',\n",
       "       'grime', 'arabesk', 'romance', 'flamenco', 'leftfield', 'european',\n",
       "       'tech', 'newwave', 'dancehall', 'mpb', 'piano', 'top', 'bigroom',\n",
       "       'opera', 'celtic', 'tradjazz', 'acoustic', 'epicmetal',\n",
       "       'historisch', 'downbeat', 'downtempo', 'africa', 'audiobook',\n",
       "       'jewish', 'sängerportrait', 'deutschrock', 'eastern', 'action',\n",
       "       'future', 'electropop', 'folklore', 'bollywood', 'marschmusik',\n",
       "       'rnr', 'karaoke', 'indian', 'rancheras', 'электроника',\n",
       "       'afrikaans', 'tango', 'rhythm', 'sound', 'deutschspr', 'trip',\n",
       "       'lovers', 'choral', 'dancepop', 'podcasts', 'retro', 'smooth',\n",
       "       'mexican', 'brazilian', 'ïîï', 'mood', 'surf', 'author', 'gangsta',\n",
       "       'triphop', 'inspirational', 'idm', 'ethnic', 'bluegrass',\n",
       "       'broadway', 'animated', 'americana', 'karadeniz', 'rockabilly',\n",
       "       'colombian', 'self', 'synthrock', 'sertanejo', 'japanese',\n",
       "       'canzone', 'swing', 'lounge', 'sport', 'korean', 'ragga',\n",
       "       'traditional', 'gitarre', 'frankreich', 'alternativepunk', 'emo',\n",
       "       'laiko', 'cantopop', 'glitch', 'documentary', 'rockalternative',\n",
       "       'thrash', 'hymn', 'oceania', 'rockother', 'popeurodance', 'dark',\n",
       "       'vi', 'grunge', 'hardstyle', 'samba', 'garage', 'soft', 'art',\n",
       "       'folktronica', 'entehno', 'mediterranean', 'chamber', 'cuban',\n",
       "       'taraftar', 'rockindie', 'gypsy', 'hardtechno', 'shoegazing',\n",
       "       'skarock', 'bossa', 'salsa', 'latino', 'worldbeat', 'malaysian',\n",
       "       'baile', 'ghazal', 'loungeelectronic', 'arabic', 'popelectronic',\n",
       "       'acid', 'kayokyoku', 'neoklassik', 'tribal', 'tanzorchester',\n",
       "       'native', 'independent', 'cantautori', 'handsup', 'poprussian',\n",
       "       'punjabi', 'synthpop', 'rave', 'französisch', 'quebecois',\n",
       "       'speech', 'soulful', 'teen', 'jam', 'ram', 'horror', 'scenic',\n",
       "       'orchestral', 'neue', 'roots', 'slow', 'jungle', 'indipop', 'axé',\n",
       "       'fado', 'showtunes', 'arena', 'irish', 'mandopop', 'forró',\n",
       "       'popdance', 'dirty', 'regional'], dtype=object)"
      ]
     },
     "execution_count": 18,
     "metadata": {},
     "output_type": "execute_result"
    }
   ],
   "source": [
    "df[\"genre\"].unique()"
   ]
  },
  {
   "cell_type": "markdown",
   "metadata": {
    "deletable": false,
    "editable": false,
    "id": "jz6a9-7HQUDd"
   },
   "source": [
    "**Выводы**\n",
    "\n",
    "Предобработка обнаружила три проблемы в данных:\n",
    "\n",
    "- нарушения в стиле заголовков,\n",
    "- пропущенные значения,\n",
    "- дубликаты — явные и неявные.\n",
    "\n",
    "Вы исправили заголовки, чтобы упростить работу с таблицей. Без дубликатов исследование станет более точным.\n",
    "\n",
    "Пропущенные значения вы заменили на `'unknown'`. Ещё предстоит увидеть, не повредят ли исследованию пропуски в колонке `genre`.\n",
    "\n",
    "Теперь можно перейти к проверке гипотез. "
   ]
  },
  {
   "cell_type": "markdown",
   "metadata": {
    "deletable": false,
    "editable": false,
    "id": "WttZHXH0SqKk"
   },
   "source": [
    "## Проверка гипотез"
   ]
  },
  {
   "cell_type": "markdown",
   "metadata": {
    "deletable": false,
    "editable": false,
    "id": "Im936VVi_Zcu"
   },
   "source": [
    "### Сравнение поведения пользователей двух столиц"
   ]
  },
  {
   "cell_type": "markdown",
   "metadata": {
    "deletable": false,
    "editable": false,
    "id": "nwt_MuaL_Zcu"
   },
   "source": [
    "Первая гипотеза утверждает, что пользователи по-разному слушают музыку в Москве и Санкт-Петербурге. Проверьте это предположение по данным о трёх днях недели — понедельнике, среде и пятнице. Для этого:\n",
    "\n",
    "* Разделите пользователей Москвы и Санкт-Петербурга.\n",
    "* Сравните, сколько треков послушала каждая группа пользователей в понедельник, среду и пятницу.\n"
   ]
  },
  {
   "cell_type": "markdown",
   "metadata": {
    "deletable": false,
    "editable": false,
    "id": "8Dw_YMmT_Zcu",
    "tags": [
     "start_task"
    ]
   },
   "source": [
    "**Задание 18**\n",
    "\n",
    "Для тренировки сначала выполните каждый из расчётов по отдельности. \n",
    "\n",
    "Оцените активность пользователей в каждом городе. Сгруппируйте данные по городу и посчитайте прослушивания в каждой группе.\n",
    "\n"
   ]
  },
  {
   "cell_type": "code",
   "execution_count": 19,
   "metadata": {
    "ExecuteTime": {
     "end_time": "2025-03-03T10:20:11.921057Z",
     "start_time": "2025-03-03T10:20:11.919934Z"
    },
    "deletable": false,
    "id": "0_Qs96oh_Zcu"
   },
   "outputs": [
    {
     "data": {
      "text/plain": [
       "city\n",
       "Saint-Petersburg    19719\n",
       "Name: track, dtype: int64"
      ]
     },
     "execution_count": 19,
     "metadata": {},
     "output_type": "execute_result"
    }
   ],
   "source": [
    "spb = df.loc[df[\"city\"] == \"Saint-Petersburg\", [\"track\", \"genre\", \"city\", \"artist\"]]\n",
    "\n",
    "msc = df.loc[df[\"city\"] == \"Moscow\", [\"track\", \"genre\", \"city\", \"artist\"]]\n",
    "\n",
    "msc.groupby(\"city\")[\"track\"].count()\n",
    "spb.groupby(\"city\")[\"track\"].count()\n",
    "\n",
    "\n"
   ]
  },
  {
   "cell_type": "markdown",
   "metadata": {
    "deletable": false,
    "editable": false,
    "id": "dzli3w8o_Zcu",
    "tags": [
     "start_task"
    ]
   },
   "source": [
    "В Москве прослушиваний больше, чем в Петербурге. Из этого не следует, что московские пользователи чаще слушают музыку. Просто самих пользователей в Москве больше.\n",
    "\n",
    "**Задание 19**\n",
    "\n",
    "Теперь сгруппируйте данные по дню недели и посчитайте прослушивания в понедельник, среду и пятницу. Учтите, что в данных есть информация о прослушиваниях только за эти дни.\n"
   ]
  },
  {
   "cell_type": "code",
   "execution_count": null,
   "metadata": {
    "ExecuteTime": {
     "end_time": "2025-03-03T10:20:11.926877Z",
     "start_time": "2025-03-03T10:20:11.925577Z"
    },
    "deletable": false,
    "id": "uZMKjiJz_Zcu"
   },
   "outputs": [
    {
     "data": {
      "text/plain": [
       "city\n",
       "Saint-Petersburg    7478\n",
       "Name: track, dtype: int64"
      ]
     },
     "execution_count": 20,
     "metadata": {},
     "output_type": "execute_result"
    }
   ],
   "source": [
    "spb = df.loc[df[\"city\"] == \"Saint-Petersburg\" ,[\"track\", \"genre\", \"city\", \"artist\", \"day\"]]\n",
    "spb.groupby(\"day\")[\"track\"].count()\n",
    "msc = df.loc[df[\"city\"] == \"Moscow\" ,[\"track\", \"genre\", \"city\", \"artist\", \"day\"]]\n",
    "msc.groupby(\"day\")[\"track\"].count()\n"
   ]
  },
  {
   "cell_type": "markdown",
   "metadata": {
    "deletable": false,
    "editable": false,
    "id": "cC2tNrlL_Zcu"
   },
   "source": [
    "В среднем пользователи из двух городов менее активны по средам. Но картина может измениться, если рассмотреть каждый город в отдельности."
   ]
  },
  {
   "cell_type": "markdown",
   "metadata": {
    "deletable": false,
    "editable": false,
    "id": "POzs8bGa_Zcu",
    "tags": [
     "start_task"
    ]
   },
   "source": [
    "**Задание 20**\n",
    "\n",
    "\n",
    "Вы видели, как работает группировка по городу и по дням недели. Теперь напишите функцию, которая объединит два эти расчёта.\n",
    "\n",
    "Создайте функцию `number_tracks()`, которая посчитает прослушивания для заданного дня и города. Ей понадобятся два параметра:\n",
    "* день недели,\n",
    "* название города.\n",
    "\n",
    "В функции сохраните в переменную строки исходной таблицы, у которых значение:\n",
    "  * в колонке `day` равно параметру `day`,\n",
    "  * в колонке `city` равно параметру `city`.\n",
    "\n",
    "Для этого примените последовательную фильтрацию с логической индексацией (или сложные логические выражения в одну строку, если вы уже знакомы с ними).\n",
    "\n",
    "Затем посчитайте значения в столбце `user_id` получившейся таблицы. Результат сохраните в новую переменную. Верните эту переменную из функции."
   ]
  },
  {
   "cell_type": "code",
   "execution_count": 21,
   "metadata": {
    "ExecuteTime": {
     "end_time": "2025-03-03T10:20:11.942968Z",
     "start_time": "2025-03-03T10:20:11.941923Z"
    },
    "deletable": false,
    "id": "Nz3GdQB1_Zcu"
   },
   "outputs": [
    {
     "data": {
      "text/plain": [
       "np.int64(11755)"
      ]
     },
     "execution_count": 21,
     "metadata": {},
     "output_type": "execute_result"
    }
   ],
   "source": [
    "\n",
    "day = \"Wednesday\"\n",
    "city = \"Moscow\"\n",
    "def number_track(day, city, df):\n",
    "    filtered_df = df[(df['day'] == day) & (df['city'] == city)]\n",
    "    track_count = filtered_df['user_id'].count()\n",
    "    return track_count\n",
    "number_track(day, city,df)\n",
    "\n",
    "\n"
   ]
  },
  {
   "cell_type": "markdown",
   "metadata": {
    "deletable": false,
    "editable": false,
    "id": "ytf7xFrFJQ2r",
    "tags": [
     "start_task"
    ]
   },
   "source": [
    "**Задание 21**\n",
    "\n",
    "Вызовите `number_tracks()` шесть раз, меняя значение параметров — так, чтобы получить данные для каждого города в каждый из трёх дней."
   ]
  },
  {
   "cell_type": "code",
   "execution_count": null,
   "metadata": {
    "ExecuteTime": {
     "end_time": "2025-03-03T10:20:11.957338Z",
     "start_time": "2025-03-03T10:20:11.955918Z"
    }
   },
   "outputs": [
    {
     "data": {
      "text/plain": [
       "np.int64(5982)"
      ]
     },
     "execution_count": 22,
     "metadata": {},
     "output_type": "execute_result"
    }
   ],
   "source": [
    "day = \"Monday\"\n",
    "city = \"Moscow\"\n",
    "def number_track(day, city, df):\n",
    "    filtered_df = df[(df['day'] == day) & (df['city'] == city)]\n",
    "    track_count = filtered_df['user_id'].count()\n",
    "    return track_count\n",
    "number_track(day,city,df)\n",
    "day = \"Wednesday\"\n",
    "city = \"Moscow\"\n",
    "\n",
    "number_track(day,city,df)\n",
    "day = \"Friday\"\n",
    "city = \"Moscow\"\n",
    "\n",
    "number_track(day,city,df)\n",
    "day = \"Monday\"\n",
    "city = \"Saint-Petersburg\"\n",
    "\n",
    "number_track(day,city,df)\n",
    "day = \"Wednesday\"\n",
    "city = \"Saint-Petersburg\"\n",
    "\n",
    "number_track(day,city,df)\n",
    "day = \"Monday\"\n",
    "city = \"Saint-Petersburg\"\n",
    "\n",
    "number_track(day,city,df)\n"
   ]
  },
  {
   "cell_type": "markdown",
   "metadata": {
    "deletable": false,
    "editable": false,
    "id": "7QXffbO-_Zcu",
    "tags": [
     "start_task"
    ]
   },
   "source": [
    "**Задание 22**\n",
    "\n",
    "Создайте c помощью конструктора `pd.DataFrame` таблицу, где\n",
    "* названия колонок — `['city', 'monday', 'wednesday', 'friday']`;\n",
    "* данные — результаты, которые вы получили с помощью `number_tracks`."
   ]
  },
  {
   "cell_type": "code",
   "execution_count": 23,
   "metadata": {
    "ExecuteTime": {
     "end_time": "2025-03-03T10:20:12.038855Z",
     "start_time": "2025-03-03T10:20:12.037749Z"
    },
    "deletable": false,
    "id": "APAcLpOr_Zcu"
   },
   "outputs": [
    {
     "data": {
      "text/html": [
       "<div>\n",
       "<style scoped>\n",
       "    .dataframe tbody tr th:only-of-type {\n",
       "        vertical-align: middle;\n",
       "    }\n",
       "\n",
       "    .dataframe tbody tr th {\n",
       "        vertical-align: top;\n",
       "    }\n",
       "\n",
       "    .dataframe thead th {\n",
       "        text-align: right;\n",
       "    }\n",
       "</style>\n",
       "<table border=\"1\" class=\"dataframe\">\n",
       "  <thead>\n",
       "    <tr style=\"text-align: right;\">\n",
       "      <th></th>\n",
       "      <th>city</th>\n",
       "      <th>monday</th>\n",
       "      <th>wednesday</th>\n",
       "      <th>friday</th>\n",
       "    </tr>\n",
       "  </thead>\n",
       "  <tbody>\n",
       "    <tr>\n",
       "      <th>0</th>\n",
       "      <td>SPB</td>\n",
       "      <td>5982</td>\n",
       "      <td>7478</td>\n",
       "      <td>6259</td>\n",
       "    </tr>\n",
       "    <tr>\n",
       "      <th>1</th>\n",
       "      <td>Moscow</td>\n",
       "      <td>16715</td>\n",
       "      <td>11755</td>\n",
       "      <td>16890</td>\n",
       "    </tr>\n",
       "  </tbody>\n",
       "</table>\n",
       "</div>"
      ],
      "text/plain": [
       "     city  monday  wednesday  friday\n",
       "0     SPB    5982       7478    6259\n",
       "1  Moscow   16715      11755   16890"
      ]
     },
     "execution_count": 23,
     "metadata": {},
     "output_type": "execute_result"
    }
   ],
   "source": [
    "pd.DataFrame({\n",
    "    \"city\":[\"SPB\" , \"Moscow\"],\n",
    "    \"monday\":[5982,16715],\n",
    "    \"wednesday\":[7478,11755 ],\n",
    "    \"friday\":[6259,16890]\n",
    "\n",
    "\n",
    "})\n"
   ]
  },
  {
   "cell_type": "markdown",
   "metadata": {
    "deletable": false,
    "editable": false,
    "id": "-EgPIHYu_Zcu"
   },
   "source": [
    "**Выводы**\n",
    "\n",
    "Данные показывают разницу поведения пользователей:\n",
    "\n",
    "- В Москве пик прослушиваний приходится на понедельник и пятницу, а в среду заметен спад.\n",
    "- В Петербурге, наоборот, больше слушают музыку по средам. Активность в понедельник и пятницу здесь почти в равной мере уступает среде.\n",
    "\n",
    "Значит, данные говорят в пользу первой гипотезы."
   ]
  },
  {
   "cell_type": "markdown",
   "metadata": {
    "deletable": false,
    "editable": false,
    "id": "atZAxtq4_Zcu"
   },
   "source": [
    "### Музыка в начале и в конце недели"
   ]
  },
  {
   "cell_type": "markdown",
   "metadata": {
    "deletable": false,
    "editable": false,
    "id": "eXrQqXFH_Zcu"
   },
   "source": [
    "Согласно второй гипотезе, утром в понедельник в Москве преобладают одни жанры, а в Петербурге — другие. Так же и вечером пятницы преобладают разные жанры — в зависимости от города."
   ]
  },
  {
   "cell_type": "markdown",
   "metadata": {
    "deletable": false,
    "editable": false,
    "id": "S8UcW6Hw_Zcu",
    "tags": [
     "start_task"
    ]
   },
   "source": [
    "**Задание 23**\n",
    "\n",
    "Сохраните таблицы с данными в две переменные:\n",
    "* по Москве — в `moscow_general`;\n",
    "* по Санкт-Петербургу — в `spb_general`."
   ]
  },
  {
   "cell_type": "code",
   "execution_count": 26,
   "metadata": {},
   "outputs": [
    {
     "data": {
      "text/html": [
       "<div>\n",
       "<style scoped>\n",
       "    .dataframe tbody tr th:only-of-type {\n",
       "        vertical-align: middle;\n",
       "    }\n",
       "\n",
       "    .dataframe tbody tr th {\n",
       "        vertical-align: top;\n",
       "    }\n",
       "\n",
       "    .dataframe thead th {\n",
       "        text-align: right;\n",
       "    }\n",
       "</style>\n",
       "<table border=\"1\" class=\"dataframe\">\n",
       "  <thead>\n",
       "    <tr style=\"text-align: right;\">\n",
       "      <th></th>\n",
       "      <th>user_id</th>\n",
       "      <th>track</th>\n",
       "      <th>artist</th>\n",
       "      <th>genre</th>\n",
       "      <th>city</th>\n",
       "      <th>time</th>\n",
       "      <th>day</th>\n",
       "    </tr>\n",
       "  </thead>\n",
       "  <tbody>\n",
       "    <tr>\n",
       "      <th>1</th>\n",
       "      <td>55204538</td>\n",
       "      <td>Delayed Because of Accident</td>\n",
       "      <td>Andreas Rönnberg</td>\n",
       "      <td>rock</td>\n",
       "      <td>Moscow</td>\n",
       "      <td>14:07:09</td>\n",
       "      <td>Friday</td>\n",
       "    </tr>\n",
       "    <tr>\n",
       "      <th>4</th>\n",
       "      <td>E2DC1FAE</td>\n",
       "      <td>Soul People</td>\n",
       "      <td>Space Echo</td>\n",
       "      <td>dance</td>\n",
       "      <td>Moscow</td>\n",
       "      <td>08:34:34</td>\n",
       "      <td>Monday</td>\n",
       "    </tr>\n",
       "    <tr>\n",
       "      <th>6</th>\n",
       "      <td>4CB90AA5</td>\n",
       "      <td>True</td>\n",
       "      <td>Roman Messer</td>\n",
       "      <td>dance</td>\n",
       "      <td>Moscow</td>\n",
       "      <td>13:00:07</td>\n",
       "      <td>Wednesday</td>\n",
       "    </tr>\n",
       "    <tr>\n",
       "      <th>7</th>\n",
       "      <td>F03E1C1F</td>\n",
       "      <td>Feeling This Way</td>\n",
       "      <td>Polina Griffith</td>\n",
       "      <td>dance</td>\n",
       "      <td>Moscow</td>\n",
       "      <td>20:47:49</td>\n",
       "      <td>Wednesday</td>\n",
       "    </tr>\n",
       "    <tr>\n",
       "      <th>8</th>\n",
       "      <td>8FA1D3BE</td>\n",
       "      <td>И вновь продолжается бой</td>\n",
       "      <td>unknown</td>\n",
       "      <td>ruspop</td>\n",
       "      <td>Moscow</td>\n",
       "      <td>09:17:40</td>\n",
       "      <td>Friday</td>\n",
       "    </tr>\n",
       "    <tr>\n",
       "      <th>...</th>\n",
       "      <td>...</td>\n",
       "      <td>...</td>\n",
       "      <td>...</td>\n",
       "      <td>...</td>\n",
       "      <td>...</td>\n",
       "      <td>...</td>\n",
       "      <td>...</td>\n",
       "    </tr>\n",
       "    <tr>\n",
       "      <th>65073</th>\n",
       "      <td>83A474E7</td>\n",
       "      <td>I Worship Only What You Bleed</td>\n",
       "      <td>The Black Dahlia Murder</td>\n",
       "      <td>extrememetal</td>\n",
       "      <td>Moscow</td>\n",
       "      <td>21:07:12</td>\n",
       "      <td>Monday</td>\n",
       "    </tr>\n",
       "    <tr>\n",
       "      <th>65074</th>\n",
       "      <td>729CBB09</td>\n",
       "      <td>My Name</td>\n",
       "      <td>McLean</td>\n",
       "      <td>rnb</td>\n",
       "      <td>Moscow</td>\n",
       "      <td>13:32:28</td>\n",
       "      <td>Wednesday</td>\n",
       "    </tr>\n",
       "    <tr>\n",
       "      <th>65076</th>\n",
       "      <td>C5E3A0D5</td>\n",
       "      <td>Jalopiina</td>\n",
       "      <td>unknown</td>\n",
       "      <td>industrial</td>\n",
       "      <td>Moscow</td>\n",
       "      <td>20:09:26</td>\n",
       "      <td>Friday</td>\n",
       "    </tr>\n",
       "    <tr>\n",
       "      <th>65077</th>\n",
       "      <td>321D0506</td>\n",
       "      <td>Freight Train</td>\n",
       "      <td>Chas McDevitt</td>\n",
       "      <td>rock</td>\n",
       "      <td>Moscow</td>\n",
       "      <td>21:43:59</td>\n",
       "      <td>Friday</td>\n",
       "    </tr>\n",
       "    <tr>\n",
       "      <th>65078</th>\n",
       "      <td>3A64EF84</td>\n",
       "      <td>Tell Me Sweet Little Lies</td>\n",
       "      <td>Monica Lopez</td>\n",
       "      <td>country</td>\n",
       "      <td>Moscow</td>\n",
       "      <td>21:59:46</td>\n",
       "      <td>Friday</td>\n",
       "    </tr>\n",
       "  </tbody>\n",
       "</table>\n",
       "<p>45360 rows × 7 columns</p>\n",
       "</div>"
      ],
      "text/plain": [
       "        user_id                          track                   artist  \\\n",
       "1      55204538    Delayed Because of Accident         Andreas Rönnberg   \n",
       "4      E2DC1FAE                    Soul People               Space Echo   \n",
       "6      4CB90AA5                           True             Roman Messer   \n",
       "7      F03E1C1F               Feeling This Way          Polina Griffith   \n",
       "8      8FA1D3BE       И вновь продолжается бой                  unknown   \n",
       "...         ...                            ...                      ...   \n",
       "65073  83A474E7  I Worship Only What You Bleed  The Black Dahlia Murder   \n",
       "65074  729CBB09                        My Name                   McLean   \n",
       "65076  C5E3A0D5                      Jalopiina                  unknown   \n",
       "65077  321D0506                  Freight Train            Chas McDevitt   \n",
       "65078  3A64EF84      Tell Me Sweet Little Lies             Monica Lopez   \n",
       "\n",
       "              genre    city      time        day  \n",
       "1              rock  Moscow  14:07:09     Friday  \n",
       "4             dance  Moscow  08:34:34     Monday  \n",
       "6             dance  Moscow  13:00:07  Wednesday  \n",
       "7             dance  Moscow  20:47:49  Wednesday  \n",
       "8            ruspop  Moscow  09:17:40     Friday  \n",
       "...             ...     ...       ...        ...  \n",
       "65073  extrememetal  Moscow  21:07:12     Monday  \n",
       "65074           rnb  Moscow  13:32:28  Wednesday  \n",
       "65076    industrial  Moscow  20:09:26     Friday  \n",
       "65077          rock  Moscow  21:43:59     Friday  \n",
       "65078       country  Moscow  21:59:46     Friday  \n",
       "\n",
       "[45360 rows x 7 columns]"
      ]
     },
     "execution_count": 26,
     "metadata": {},
     "output_type": "execute_result"
    }
   ],
   "source": [
    "moscow_general =  df.loc[df[\"city\"] ==\"Moscow\",  ]\n",
    "moscow_general"
   ]
  },
  {
   "cell_type": "code",
   "execution_count": 27,
   "metadata": {},
   "outputs": [
    {
     "data": {
      "text/html": [
       "<div>\n",
       "<style scoped>\n",
       "    .dataframe tbody tr th:only-of-type {\n",
       "        vertical-align: middle;\n",
       "    }\n",
       "\n",
       "    .dataframe tbody tr th {\n",
       "        vertical-align: top;\n",
       "    }\n",
       "\n",
       "    .dataframe thead th {\n",
       "        text-align: right;\n",
       "    }\n",
       "</style>\n",
       "<table border=\"1\" class=\"dataframe\">\n",
       "  <thead>\n",
       "    <tr style=\"text-align: right;\">\n",
       "      <th></th>\n",
       "      <th>user_id</th>\n",
       "      <th>track</th>\n",
       "      <th>artist</th>\n",
       "      <th>genre</th>\n",
       "      <th>city</th>\n",
       "      <th>time</th>\n",
       "      <th>day</th>\n",
       "    </tr>\n",
       "  </thead>\n",
       "  <tbody>\n",
       "    <tr>\n",
       "      <th>0</th>\n",
       "      <td>FFB692EC</td>\n",
       "      <td>Kamigata To Boots</td>\n",
       "      <td>The Mass Missile</td>\n",
       "      <td>rock</td>\n",
       "      <td>Saint-Petersburg</td>\n",
       "      <td>20:28:33</td>\n",
       "      <td>Wednesday</td>\n",
       "    </tr>\n",
       "    <tr>\n",
       "      <th>2</th>\n",
       "      <td>20EC38</td>\n",
       "      <td>Funiculì funiculà</td>\n",
       "      <td>Mario Lanza</td>\n",
       "      <td>pop</td>\n",
       "      <td>Saint-Petersburg</td>\n",
       "      <td>20:58:07</td>\n",
       "      <td>Wednesday</td>\n",
       "    </tr>\n",
       "    <tr>\n",
       "      <th>3</th>\n",
       "      <td>A3DD03C9</td>\n",
       "      <td>Dragons in the Sunset</td>\n",
       "      <td>Fire + Ice</td>\n",
       "      <td>folk</td>\n",
       "      <td>Saint-Petersburg</td>\n",
       "      <td>08:37:09</td>\n",
       "      <td>Monday</td>\n",
       "    </tr>\n",
       "    <tr>\n",
       "      <th>5</th>\n",
       "      <td>842029A1</td>\n",
       "      <td>Преданная</td>\n",
       "      <td>IMPERVTOR</td>\n",
       "      <td>rusrap</td>\n",
       "      <td>Saint-Petersburg</td>\n",
       "      <td>13:09:41</td>\n",
       "      <td>Friday</td>\n",
       "    </tr>\n",
       "    <tr>\n",
       "      <th>9</th>\n",
       "      <td>E772D5C0</td>\n",
       "      <td>Pessimist</td>\n",
       "      <td>unknown</td>\n",
       "      <td>dance</td>\n",
       "      <td>Saint-Petersburg</td>\n",
       "      <td>21:20:49</td>\n",
       "      <td>Wednesday</td>\n",
       "    </tr>\n",
       "    <tr>\n",
       "      <th>...</th>\n",
       "      <td>...</td>\n",
       "      <td>...</td>\n",
       "      <td>...</td>\n",
       "      <td>...</td>\n",
       "      <td>...</td>\n",
       "      <td>...</td>\n",
       "      <td>...</td>\n",
       "    </tr>\n",
       "    <tr>\n",
       "      <th>65064</th>\n",
       "      <td>BC8EC5CF</td>\n",
       "      <td>Red Lips: Gta (Rover Rework)</td>\n",
       "      <td>Rover</td>\n",
       "      <td>electronic</td>\n",
       "      <td>Saint-Petersburg</td>\n",
       "      <td>21:06:50</td>\n",
       "      <td>Monday</td>\n",
       "    </tr>\n",
       "    <tr>\n",
       "      <th>65065</th>\n",
       "      <td>29E04611</td>\n",
       "      <td>Bre Petrunko</td>\n",
       "      <td>Perunika Trio</td>\n",
       "      <td>world</td>\n",
       "      <td>Saint-Petersburg</td>\n",
       "      <td>13:56:00</td>\n",
       "      <td>Monday</td>\n",
       "    </tr>\n",
       "    <tr>\n",
       "      <th>65066</th>\n",
       "      <td>1B91C621</td>\n",
       "      <td>(Hello) Cloud Mountain</td>\n",
       "      <td>sleepmakeswaves</td>\n",
       "      <td>postrock</td>\n",
       "      <td>Saint-Petersburg</td>\n",
       "      <td>09:22:13</td>\n",
       "      <td>Monday</td>\n",
       "    </tr>\n",
       "    <tr>\n",
       "      <th>65067</th>\n",
       "      <td>F1B93F29</td>\n",
       "      <td>Poison Kiss</td>\n",
       "      <td>Centerstone</td>\n",
       "      <td>rock</td>\n",
       "      <td>Saint-Petersburg</td>\n",
       "      <td>22:00:29</td>\n",
       "      <td>Monday</td>\n",
       "    </tr>\n",
       "    <tr>\n",
       "      <th>65075</th>\n",
       "      <td>D08D4A55</td>\n",
       "      <td>Maybe One Day (feat. Black Spade)</td>\n",
       "      <td>Blu &amp; Exile</td>\n",
       "      <td>hiphop</td>\n",
       "      <td>Saint-Petersburg</td>\n",
       "      <td>10:00:00</td>\n",
       "      <td>Monday</td>\n",
       "    </tr>\n",
       "  </tbody>\n",
       "</table>\n",
       "<p>19719 rows × 7 columns</p>\n",
       "</div>"
      ],
      "text/plain": [
       "        user_id                              track            artist  \\\n",
       "0      FFB692EC                  Kamigata To Boots  The Mass Missile   \n",
       "2        20EC38                  Funiculì funiculà       Mario Lanza   \n",
       "3      A3DD03C9              Dragons in the Sunset        Fire + Ice   \n",
       "5      842029A1                          Преданная         IMPERVTOR   \n",
       "9      E772D5C0                          Pessimist           unknown   \n",
       "...         ...                                ...               ...   \n",
       "65064  BC8EC5CF       Red Lips: Gta (Rover Rework)             Rover   \n",
       "65065  29E04611                       Bre Petrunko     Perunika Trio   \n",
       "65066  1B91C621             (Hello) Cloud Mountain   sleepmakeswaves   \n",
       "65067  F1B93F29                        Poison Kiss       Centerstone   \n",
       "65075  D08D4A55  Maybe One Day (feat. Black Spade)       Blu & Exile   \n",
       "\n",
       "            genre              city      time        day  \n",
       "0            rock  Saint-Petersburg  20:28:33  Wednesday  \n",
       "2             pop  Saint-Petersburg  20:58:07  Wednesday  \n",
       "3            folk  Saint-Petersburg  08:37:09     Monday  \n",
       "5          rusrap  Saint-Petersburg  13:09:41     Friday  \n",
       "9           dance  Saint-Petersburg  21:20:49  Wednesday  \n",
       "...           ...               ...       ...        ...  \n",
       "65064  electronic  Saint-Petersburg  21:06:50     Monday  \n",
       "65065       world  Saint-Petersburg  13:56:00     Monday  \n",
       "65066    postrock  Saint-Petersburg  09:22:13     Monday  \n",
       "65067        rock  Saint-Petersburg  22:00:29     Monday  \n",
       "65075      hiphop  Saint-Petersburg  10:00:00     Monday  \n",
       "\n",
       "[19719 rows x 7 columns]"
      ]
     },
     "execution_count": 27,
     "metadata": {},
     "output_type": "execute_result"
    }
   ],
   "source": [
    "spb_general =  df.loc[df[\"city\"] ==\"Saint-Petersburg\",  ]\n",
    "spb_general"
   ]
  },
  {
   "cell_type": "code",
   "execution_count": null,
   "metadata": {
    "ExecuteTime": {
     "end_time": "2025-03-03T10:20:12.045108Z",
     "start_time": "2025-03-03T10:20:12.043859Z"
    },
    "deletable": false,
    "id": "qeaFfM_P_Zcu"
   },
   "outputs": [
    {
     "data": {
      "text/html": [
       "<div>\n",
       "<style scoped>\n",
       "    .dataframe tbody tr th:only-of-type {\n",
       "        vertical-align: middle;\n",
       "    }\n",
       "\n",
       "    .dataframe tbody tr th {\n",
       "        vertical-align: top;\n",
       "    }\n",
       "\n",
       "    .dataframe thead th {\n",
       "        text-align: right;\n",
       "    }\n",
       "</style>\n",
       "<table border=\"1\" class=\"dataframe\">\n",
       "  <thead>\n",
       "    <tr style=\"text-align: right;\">\n",
       "      <th></th>\n",
       "      <th>user_id</th>\n",
       "      <th>track</th>\n",
       "      <th>artist</th>\n",
       "      <th>genre</th>\n",
       "      <th>city</th>\n",
       "      <th>time</th>\n",
       "      <th>day</th>\n",
       "    </tr>\n",
       "  </thead>\n",
       "  <tbody>\n",
       "    <tr>\n",
       "      <th>0</th>\n",
       "      <td>FFB692EC</td>\n",
       "      <td>Kamigata To Boots</td>\n",
       "      <td>The Mass Missile</td>\n",
       "      <td>rock</td>\n",
       "      <td>Saint-Petersburg</td>\n",
       "      <td>20:28:33</td>\n",
       "      <td>Wednesday</td>\n",
       "    </tr>\n",
       "    <tr>\n",
       "      <th>1</th>\n",
       "      <td>55204538</td>\n",
       "      <td>Delayed Because of Accident</td>\n",
       "      <td>Andreas Rönnberg</td>\n",
       "      <td>rock</td>\n",
       "      <td>Moscow</td>\n",
       "      <td>14:07:09</td>\n",
       "      <td>Friday</td>\n",
       "    </tr>\n",
       "    <tr>\n",
       "      <th>2</th>\n",
       "      <td>20EC38</td>\n",
       "      <td>Funiculì funiculà</td>\n",
       "      <td>Mario Lanza</td>\n",
       "      <td>pop</td>\n",
       "      <td>Saint-Petersburg</td>\n",
       "      <td>20:58:07</td>\n",
       "      <td>Wednesday</td>\n",
       "    </tr>\n",
       "  </tbody>\n",
       "</table>\n",
       "</div>"
      ],
      "text/plain": [
       "    user_id                        track            artist genre  \\\n",
       "0  FFB692EC            Kamigata To Boots  The Mass Missile  rock   \n",
       "1  55204538  Delayed Because of Accident  Andreas Rönnberg  rock   \n",
       "2    20EC38            Funiculì funiculà       Mario Lanza   pop   \n",
       "\n",
       "               city      time        day  \n",
       "0  Saint-Petersburg  20:28:33  Wednesday  \n",
       "1            Moscow  14:07:09     Friday  \n",
       "2  Saint-Petersburg  20:58:07  Wednesday  "
      ]
     },
     "execution_count": 52,
     "metadata": {},
     "output_type": "execute_result"
    }
   ],
   "source": []
  },
  {
   "cell_type": "markdown",
   "metadata": {
    "deletable": false,
    "editable": false,
    "id": "MEJV-CX2_Zcu",
    "tags": [
     "start_task"
    ]
   },
   "source": [
    "**Задание 24**\n",
    "\n",
    "Создайте функцию `genre_weekday()` с четырьмя параметрами:\n",
    "* таблица (датафрейм) с данными,\n",
    "* день недели,1\n",
    "* начальная временная метка в формате 'hh:mm', \n",
    "* последняя временная метка в формате 'hh:mm'.\n",
    "\n",
    "Функция должна вернуть информацию о топ-10 жанров тех треков, которые прослушивали в указанный день, в промежутке между двумя отметками времени."
   ]
  },
  {
   "cell_type": "code",
   "execution_count": null,
   "metadata": {
    "ExecuteTime": {
     "end_time": "2025-03-03T10:20:12.066495Z",
     "start_time": "2025-03-03T10:20:12.065311Z"
    },
    "deletable": false,
    "id": "laJT9BYl_Zcu"
   },
   "outputs": [
    {
     "data": {
      "text/plain": [
       "genre\n",
       "pop            2003\n",
       "dance          1599\n",
       "rock           1398\n",
       "electronic     1340\n",
       "hiphop          746\n",
       "classical       548\n",
       "world           492\n",
       "alternative     469\n",
       "ruspop          448\n",
       "rusrap          432\n",
       "Name: count, dtype: int64"
      ]
     },
     "execution_count": 199,
     "metadata": {},
     "output_type": "execute_result"
    }
   ],
   "source": [
    "day = \"Monday\"\n",
    "time2 = \"20:28:33\"\n",
    "time1 = \"08:37:09\"\n",
    "city = \"Moscow\"\n",
    "def genre_weekday(df, day,time1, time2 ):\n",
    "    fil_df = df.loc[(df[\"time\"]  > time1)& ( df[\"time\"] < time2)& (df[\"day\"] == day) ]\n",
    "\n",
    "    \n",
    "    return  fil_df[\"genre\"].value_counts().head(10)\n",
    "genre_weekday(df,day,time1, time2)\n"
   ]
  },
  {
   "cell_type": "markdown",
   "metadata": {
    "deletable": false,
    "editable": false,
    "id": "la2s2_PF_Zcu",
    "tags": [
     "start_task"
    ]
   },
   "source": [
    "**Задание 25**\n",
    "\n",
    "\n",
    "Cравните результаты функции `genre_weekday()` для Москвы и Санкт-Петербурга в понедельник утром (с 7:00 до 11:00) и в пятницу вечером (с 17:00 до 23:00):"
   ]
  },
  {
   "cell_type": "code",
   "execution_count": 54,
   "metadata": {
    "ExecuteTime": {
     "end_time": "2025-03-03T10:20:12.075303Z",
     "start_time": "2025-03-03T10:20:12.074150Z"
    },
    "deletable": false,
    "id": "yz7itPUQ_Zcu"
   },
   "outputs": [
    {
     "data": {
      "text/plain": [
       "genre\n",
       "pop            781\n",
       "dance          549\n",
       "electronic     480\n",
       "rock           474\n",
       "hiphop         286\n",
       "ruspop         186\n",
       "world          181\n",
       "rusrap         175\n",
       "alternative    164\n",
       "unknown        161\n",
       "Name: count, dtype: int64"
      ]
     },
     "execution_count": 54,
     "metadata": {},
     "output_type": "execute_result"
    }
   ],
   "source": [
    "day = \"Monday\"\n",
    "time1 = \"07:00:00\"\n",
    "time2 = \"11:00:00\"\n",
    "city = \"Moscow\"\n",
    "def genre_weekday(df, day,time1, time2,city ):\n",
    "    fil_df = df.loc[(df[\"time\"]  > time1)& ( df[\"time\"] < time2)& (df[\"day\"] == day)& (df[\"city\"] == city) ]\n",
    "\n",
    "    \n",
    "    return  fil_df[\"genre\"].value_counts().head(10)\n",
    "genre_weekday(df,day,time1, time2,city)"
   ]
  },
  {
   "cell_type": "code",
   "execution_count": null,
   "metadata": {},
   "outputs": [
    {
     "data": {
      "text/plain": [
       "genre\n",
       "pop            969\n",
       "rock           733\n",
       "dance          705\n",
       "electronic     698\n",
       "hiphop         370\n",
       "world          262\n",
       "alternative    226\n",
       "classical      223\n",
       "ruspop         217\n",
       "rusrap         201\n",
       "Name: count, dtype: int64"
      ]
     },
     "execution_count": 55,
     "metadata": {},
     "output_type": "execute_result"
    }
   ],
   "source": [
    "day = \"Friday\"\n",
    "time1 = \"17:00:00\"\n",
    "time2 = \"23:00:00\"\n",
    "city = \"Saint-Petersburg\"\n",
    "def genre_weekday(df, day,time1, time2 ):\n",
    "    fil_df = df.loc[(df[\"time\"]  > time1)& ( df[\"time\"] < time2)& (df[\"day\"] == day) & (df[\"city\"] == city)]\n",
    "\n",
    "    \n",
    "    return  fil_df[\"genre\"].value_counts().head(10)\n",
    "genre_weekday(df,day,time1, time2,city)"
   ]
  },
  {
   "cell_type": "code",
   "execution_count": null,
   "metadata": {},
   "outputs": [
    {
     "data": {
      "text/plain": [
       "genre\n",
       "pop            1040\n",
       "rock            776\n",
       "dance           742\n",
       "electronic      737\n",
       "hiphop          385\n",
       "world           280\n",
       "alternative     243\n",
       "classical       235\n",
       "ruspop          233\n",
       "rusrap          217\n",
       "Name: count, dtype: int64"
      ]
     },
     "execution_count": 206,
     "metadata": {},
     "output_type": "execute_result"
    }
   ],
   "source": [
    "day = \"Friday\"\n",
    "time1 = \"17:00:00\"\n",
    "time2 = \"23:00:00\"\n",
    "city = \"Moscow\"\n",
    "def genre_weekday(df, day,time1, time2 ):\n",
    "    fil_df = df.loc[(df[\"time\"]  > time1)& ( df[\"time\"] < time2)& (df[\"day\"] == day)& (df[\"city\"] == city) ]\n",
    "\n",
    "    \n",
    "    return  fil_df[\"genre\"].value_counts().head(10)\n",
    "genre_weekday(df,day,time1, time2,city)"
   ]
  },
  {
   "cell_type": "code",
   "execution_count": null,
   "metadata": {},
   "outputs": [
    {
     "data": {
      "text/plain": [
       "genre\n",
       "pop            1068\n",
       "dance           781\n",
       "rock            684\n",
       "electronic      655\n",
       "hiphop          399\n",
       "ruspop          271\n",
       "rusrap          244\n",
       "alternative     240\n",
       "world           229\n",
       "classical       209\n",
       "Name: count, dtype: int64"
      ]
     },
     "execution_count": 205,
     "metadata": {},
     "output_type": "execute_result"
    }
   ],
   "source": [
    "day = \"Monday\"\n",
    "time1 = \"07:00:00\"\n",
    "time2 = \"11:00:00\"\n",
    "city = \"Saint-Petersburg\"\n",
    "def genre_weekday(df, day,time1, time2 ):\n",
    "    fil_df = df.loc[(df[\"time\"]  > time1)& ( df[\"time\"] < time2)& (df[\"day\"] == day)& (df[\"city\"] == city) ]\n",
    "\n",
    "    \n",
    "    return  fil_df[\"genre\"].value_counts().head(10)\n",
    "genre_weekday(df,day,time1, time2,city)"
   ]
  },
  {
   "cell_type": "markdown",
   "metadata": {
    "deletable": false,
    "editable": false,
    "id": "wrCe4MNX_Zcu"
   },
   "source": [
    "**Выводы**\n",
    "\n",
    "Если сравнить топ-10 жанров в понедельник утром, можно сделать такие выводы:\n",
    "\n",
    "1. В Москве и Петербурге слушают похожую музыку. Единственное отличие — в московский рейтинг вошёл жанр “world”, а в петербургский — джаз и классика.\n",
    "\n",
    "2. В Москве пропущенных значений оказалось так много, что значение `'unknown'` заняло десятое место среди самых популярных жанров. Значит, пропущенные значения занимают существенную долю в данных и угрожают достоверности исследования.\n",
    "\n",
    "Вечер пятницы не меняет эту картину. Некоторые жанры поднимаются немного выше, другие спускаются, но в целом топ-10 остаётся тем же самым.\n",
    "\n",
    "Таким образом, вторая гипотеза подтвердилась лишь частично:\n",
    "* Пользователи слушают похожую музыку в начале недели и в конце.\n",
    "* Разница между Москвой и Петербургом не слишком выражена. В Москве чаще слушают русскую популярную музыку, в Петербурге — джаз.\n",
    "\n",
    "Однако пропуски в данных ставят под сомнение этот результат. В Москве их так много, что рейтинг топ-10 мог бы выглядеть иначе, если бы не утерянные  данные о жанрах."
   ]
  },
  {
   "cell_type": "markdown",
   "metadata": {
    "deletable": false,
    "editable": false,
    "id": "JolODAqr_Zcu"
   },
   "source": [
    "### Жанровые предпочтения в Москве и Петербурге\n",
    "\n",
    "Гипотеза: Петербург — столица рэпа, музыку этого жанра там слушают чаще, чем в Москве.  А Москва — город контрастов, в котором, тем не менее, преобладает поп-музыка."
   ]
  },
  {
   "cell_type": "markdown",
   "metadata": {
    "deletable": false,
    "editable": false,
    "id": "DlegSvaT_Zcu",
    "tags": [
     "start_task"
    ]
   },
   "source": [
    "**Задание 26**\n",
    "\n",
    "Сгруппируйте таблицу `moscow_general` по жанру и посчитайте прослушивания треков каждого жанра методом `count()`. Затем отсортируйте результат в порядке убывания и сохраните его в таблице `moscow_genres`."
   ]
  },
  {
   "cell_type": "code",
   "execution_count": 34,
   "metadata": {
    "ExecuteTime": {
     "end_time": "2025-03-03T10:20:12.110526Z",
     "start_time": "2025-03-03T10:20:12.109366Z"
    },
    "deletable": false,
    "id": "r19lIPke_Zcu"
   },
   "outputs": [
    {
     "data": {
      "text/plain": [
       "genre\n",
       "pop                6253\n",
       "dance              4707\n",
       "rock               4188\n",
       "electronic         4010\n",
       "hiphop             2215\n",
       "                   ... \n",
       "rockalternative       1\n",
       "forró                 1\n",
       "popdance              1\n",
       "dirty                 1\n",
       "regional              1\n",
       "Name: count, Length: 267, dtype: int64"
      ]
     },
     "execution_count": 34,
     "metadata": {},
     "output_type": "execute_result"
    }
   ],
   "source": [
    "moscow_genres= moscow_general[\"genre\"].value_counts()\n",
    "moscow_genres"
   ]
  },
  {
   "cell_type": "markdown",
   "metadata": {
    "deletable": false,
    "editable": false,
    "id": "6kMuomxTiIr8",
    "tags": [
     "start_task"
    ]
   },
   "source": [
    "**Задание 27**\n",
    "\n",
    "Выведите на экран первые десять строк `moscow_genres`:"
   ]
  },
  {
   "cell_type": "code",
   "execution_count": 35,
   "metadata": {
    "ExecuteTime": {
     "end_time": "2025-03-03T10:20:12.118192Z",
     "start_time": "2025-03-03T10:20:12.117035Z"
    },
    "deletable": false,
    "id": "WhCSooF8_Zcv"
   },
   "outputs": [
    {
     "data": {
      "text/plain": [
       "genre\n",
       "pop            6253\n",
       "dance          4707\n",
       "rock           4188\n",
       "electronic     4010\n",
       "hiphop         2215\n",
       "classical      1712\n",
       "world          1516\n",
       "alternative    1466\n",
       "ruspop         1453\n",
       "rusrap         1239\n",
       "Name: count, dtype: int64"
      ]
     },
     "execution_count": 35,
     "metadata": {},
     "output_type": "execute_result"
    }
   ],
   "source": [
    "moscow_genres.head(10)"
   ]
  },
  {
   "cell_type": "markdown",
   "metadata": {
    "deletable": false,
    "editable": false,
    "id": "cnPG2vnN_Zcv",
    "tags": [
     "start_task"
    ]
   },
   "source": [
    "**Задание 28**\n",
    "\n",
    "\n",
    "Теперь повторите то же и для Петербурга.\n",
    "\n",
    "Сгруппируйте таблицу `spb_general` по жанру. Посчитайте прослушивания треков каждого жанра. Результат отсортируйте в порядке убывания и сохраните в таблице `spb_genres`:\n"
   ]
  },
  {
   "cell_type": "code",
   "execution_count": 37,
   "metadata": {
    "ExecuteTime": {
     "end_time": "2025-03-03T10:20:12.125899Z",
     "start_time": "2025-03-03T10:20:12.124878Z"
    },
    "deletable": false,
    "id": "gluLIpE7_Zcv"
   },
   "outputs": [
    {
     "data": {
      "text/plain": [
       "genre\n",
       "pop            2597\n",
       "dance          2054\n",
       "rock           2004\n",
       "electronic     1842\n",
       "hiphop         1020\n",
       "               ... \n",
       "orchestral        1\n",
       "ram               1\n",
       "mandopop          1\n",
       "idm               1\n",
       "traditional       1\n",
       "Name: count, Length: 211, dtype: int64"
      ]
     },
     "execution_count": 37,
     "metadata": {},
     "output_type": "execute_result"
    }
   ],
   "source": [
    "spb_genres= spb_general[\"genre\"].value_counts()\n",
    "spb_genres"
   ]
  },
  {
   "cell_type": "markdown",
   "metadata": {
    "deletable": false,
    "editable": false,
    "id": "5Doha_ODgyQ8",
    "tags": [
     "start_task"
    ]
   },
   "source": [
    "**Задание 29**\n",
    "\n",
    "Выведите на экран первые десять строк `spb_genres`:"
   ]
  },
  {
   "cell_type": "code",
   "execution_count": 56,
   "metadata": {
    "ExecuteTime": {
     "end_time": "2025-03-03T10:20:12.130330Z",
     "start_time": "2025-03-03T10:20:12.129202Z"
    },
    "deletable": false,
    "id": "uaGJHjVU_Zcv"
   },
   "outputs": [
    {
     "data": {
      "text/plain": [
       "genre\n",
       "pop            2597\n",
       "dance          2054\n",
       "rock           2004\n",
       "electronic     1842\n",
       "hiphop         1020\n",
       "alternative     700\n",
       "classical       684\n",
       "rusrap          604\n",
       "ruspop          565\n",
       "world           553\n",
       "Name: count, dtype: int64"
      ]
     },
     "execution_count": 56,
     "metadata": {},
     "output_type": "execute_result"
    }
   ],
   "source": [
    "spb_genres.head(10)"
   ]
  },
  {
   "cell_type": "markdown",
   "metadata": {
    "deletable": false,
    "editable": false,
    "id": "RY51YJYu_Zcv"
   },
   "source": [
    "**Выводы**"
   ]
  },
  {
   "cell_type": "markdown",
   "metadata": {
    "deletable": false,
    "editable": false,
    "id": "nVhnJEm__Zcv"
   },
   "source": [
    "Гипотеза частично подтвердилась:\n",
    "* Поп-музыка — самый популярный жанр в Москве, как и предполагала гипотеза. Более того, в топ-10 жанров встречается близкий жанр — русская популярная музыка.\n",
    "* Вопреки ожиданиям, рэп одинаково популярен в Москве и Петербурге. \n"
   ]
  },
  {
   "cell_type": "markdown",
   "metadata": {
    "deletable": false,
    "editable": false,
    "id": "ykKQ0N65_Zcv"
   },
   "source": [
    "## Итоги исследования"
   ]
  },
  {
   "cell_type": "markdown",
   "metadata": {
    "deletable": false,
    "editable": false,
    "id": "tjUwbHb3_Zcv"
   },
   "source": [
    "Вы проверили три гипотезы и установили:\n",
    "\n",
    "1. День недели по-разному влияет на активность пользователей в Москве и Петербурге. \n",
    "\n",
    "Первая гипотеза полностью подтвердилась.\n",
    "\n",
    "2. Музыкальные предпочтения не сильно меняются в течение недели — будь то Москва или Петербург. Небольшие различия заметны в начале недели, по понедельникам:\n",
    "* в Москве слушают музыку жанра “world”,\n",
    "* в Петербурге — джаз и классику.\n",
    "\n",
    "Таким образом, вторая гипотеза подтвердилась лишь отчасти. Этот результат мог оказаться иным, если бы не пропуски в данных.\n",
    "\n",
    "3. Во вкусах пользователей Москвы и Петербурга больше общего чем различий. Вопреки ожиданиям, предпочтения жанров в Петербурге напоминают московские.\n",
    "\n",
    "Третья гипотеза не подтвердилась. Если различия в предпочтениях и существуют, на основной массе пользователей они незаметны.\n",
    "\n",
    "**На практике исследования содержат проверки статистических гипотез.**\n",
    "Из данных одного сервиса не всегда можно сделать вывод о всех жителях города.\n",
    "Проверки статистических гипотез покажут, насколько они достоверны, исходя из имеющихся данных. \n",
    "С методами проверок гипотез вы ещё познакомитесь в следующих темах."
   ]
  }
 ],
 "metadata": {
  "ExecuteTimeLog": [
   {
    "duration": 386,
    "start_time": "2022-07-23T15:01:48.594Z"
   },
   {
    "duration": 274,
    "start_time": "2022-07-23T15:02:45.490Z"
   },
   {
    "duration": 48,
    "start_time": "2022-07-23T15:07:44.641Z"
   },
   {
    "duration": 9,
    "start_time": "2022-07-23T15:09:41.874Z"
   },
   {
    "duration": 23,
    "start_time": "2022-07-23T15:14:02.049Z"
   },
   {
    "duration": 4,
    "start_time": "2022-07-23T15:14:08.798Z"
   },
   {
    "duration": 27,
    "start_time": "2022-07-23T15:21:11.456Z"
   },
   {
    "duration": 30,
    "start_time": "2022-07-23T15:21:18.174Z"
   },
   {
    "duration": 42,
    "start_time": "2022-07-23T15:21:38.604Z"
   },
   {
    "duration": 796,
    "start_time": "2022-07-23T15:36:04.709Z"
   },
   {
    "duration": 2,
    "start_time": "2022-07-23T15:36:38.033Z"
   },
   {
    "duration": 156,
    "start_time": "2022-07-23T15:36:38.043Z"
   },
   {
    "duration": 7,
    "start_time": "2022-07-23T15:36:38.201Z"
   },
   {
    "duration": 35,
    "start_time": "2022-07-23T15:36:38.209Z"
   },
   {
    "duration": 2,
    "start_time": "2022-07-23T15:36:38.246Z"
   },
   {
    "duration": 6,
    "start_time": "2022-07-23T15:36:38.250Z"
   },
   {
    "duration": 15,
    "start_time": "2022-07-23T15:36:38.258Z"
   },
   {
    "duration": 6,
    "start_time": "2022-07-23T15:36:38.274Z"
   },
   {
    "duration": 46,
    "start_time": "2022-07-23T15:36:38.282Z"
   },
   {
    "duration": 18,
    "start_time": "2022-07-23T15:36:38.330Z"
   },
   {
    "duration": 2,
    "start_time": "2022-07-23T15:36:38.350Z"
   },
   {
    "duration": 6,
    "start_time": "2022-07-23T15:36:38.354Z"
   },
   {
    "duration": 5,
    "start_time": "2022-07-23T15:36:38.363Z"
   },
   {
    "duration": 6,
    "start_time": "2022-07-23T15:36:38.369Z"
   },
   {
    "duration": 4,
    "start_time": "2022-07-23T15:36:38.377Z"
   },
   {
    "duration": 5,
    "start_time": "2022-07-23T15:36:38.383Z"
   },
   {
    "duration": 4,
    "start_time": "2022-07-23T15:36:38.390Z"
   },
   {
    "duration": 29,
    "start_time": "2022-07-23T15:36:38.395Z"
   },
   {
    "duration": 9,
    "start_time": "2022-07-23T15:36:38.426Z"
   },
   {
    "duration": 6,
    "start_time": "2022-07-23T15:36:38.436Z"
   },
   {
    "duration": 8,
    "start_time": "2022-07-23T15:36:38.444Z"
   },
   {
    "duration": 5,
    "start_time": "2022-07-23T15:36:38.453Z"
   },
   {
    "duration": 7,
    "start_time": "2022-07-23T15:36:38.460Z"
   },
   {
    "duration": 7,
    "start_time": "2022-07-23T15:36:38.468Z"
   },
   {
    "duration": 6,
    "start_time": "2022-07-23T15:36:38.477Z"
   },
   {
    "duration": 7,
    "start_time": "2022-07-23T15:36:38.484Z"
   },
   {
    "duration": 4,
    "start_time": "2022-07-23T15:36:38.493Z"
   },
   {
    "duration": 5,
    "start_time": "2022-07-23T15:36:38.498Z"
   },
   {
    "duration": 5,
    "start_time": "2022-07-23T15:36:38.504Z"
   },
   {
    "duration": 61,
    "start_time": "2022-07-23T15:36:38.510Z"
   },
   {
    "duration": 0,
    "start_time": "2022-07-23T15:36:38.572Z"
   },
   {
    "duration": 0,
    "start_time": "2022-07-23T15:36:38.574Z"
   },
   {
    "duration": 0,
    "start_time": "2022-07-23T15:36:38.575Z"
   },
   {
    "duration": 0,
    "start_time": "2022-07-23T15:36:38.576Z"
   },
   {
    "duration": 0,
    "start_time": "2022-07-23T15:36:38.577Z"
   },
   {
    "duration": 0,
    "start_time": "2022-07-23T15:36:38.578Z"
   },
   {
    "duration": 0,
    "start_time": "2022-07-23T15:36:38.579Z"
   },
   {
    "duration": 0,
    "start_time": "2022-07-23T15:36:38.580Z"
   },
   {
    "duration": 25,
    "start_time": "2022-07-23T15:36:45.619Z"
   },
   {
    "duration": 2,
    "start_time": "2022-07-23T15:36:59.280Z"
   },
   {
    "duration": 189,
    "start_time": "2022-07-23T15:36:59.284Z"
   },
   {
    "duration": 7,
    "start_time": "2022-07-23T15:36:59.474Z"
   },
   {
    "duration": 31,
    "start_time": "2022-07-23T15:36:59.483Z"
   },
   {
    "duration": 9,
    "start_time": "2022-07-23T15:36:59.530Z"
   },
   {
    "duration": 10,
    "start_time": "2022-07-23T15:36:59.540Z"
   },
   {
    "duration": 12,
    "start_time": "2022-07-23T15:36:59.551Z"
   },
   {
    "duration": 3,
    "start_time": "2022-07-23T15:36:59.565Z"
   },
   {
    "duration": 33,
    "start_time": "2022-07-23T15:36:59.570Z"
   },
   {
    "duration": 6,
    "start_time": "2022-07-23T17:44:25.956Z"
   },
   {
    "duration": 2,
    "start_time": "2022-07-23T17:44:32.544Z"
   },
   {
    "duration": 168,
    "start_time": "2022-07-23T17:44:32.548Z"
   },
   {
    "duration": 7,
    "start_time": "2022-07-23T17:44:32.718Z"
   },
   {
    "duration": 34,
    "start_time": "2022-07-23T17:44:32.726Z"
   },
   {
    "duration": 2,
    "start_time": "2022-07-23T17:44:32.762Z"
   },
   {
    "duration": 10,
    "start_time": "2022-07-23T17:44:32.766Z"
   },
   {
    "duration": 13,
    "start_time": "2022-07-23T17:44:32.777Z"
   },
   {
    "duration": 3,
    "start_time": "2022-07-23T17:44:32.792Z"
   },
   {
    "duration": 28,
    "start_time": "2022-07-23T17:44:32.823Z"
   },
   {
    "duration": 21,
    "start_time": "2022-07-23T17:44:32.852Z"
   },
   {
    "duration": 7,
    "start_time": "2022-07-23T17:44:34.142Z"
   },
   {
    "duration": 28,
    "start_time": "2022-07-23T17:44:41.240Z"
   },
   {
    "duration": 10,
    "start_time": "2022-07-23T20:44:38.471Z"
   },
   {
    "duration": 3,
    "start_time": "2022-07-23T20:44:46.086Z"
   },
   {
    "duration": 179,
    "start_time": "2022-07-23T20:44:46.091Z"
   },
   {
    "duration": 8,
    "start_time": "2022-07-23T20:44:46.272Z"
   },
   {
    "duration": 54,
    "start_time": "2022-07-23T20:44:46.282Z"
   },
   {
    "duration": 14,
    "start_time": "2022-07-23T20:44:46.339Z"
   },
   {
    "duration": 16,
    "start_time": "2022-07-23T20:44:46.355Z"
   },
   {
    "duration": 15,
    "start_time": "2022-07-23T20:44:46.374Z"
   },
   {
    "duration": 10,
    "start_time": "2022-07-23T20:44:46.391Z"
   },
   {
    "duration": 37,
    "start_time": "2022-07-23T20:44:46.403Z"
   },
   {
    "duration": 23,
    "start_time": "2022-07-23T20:44:46.442Z"
   },
   {
    "duration": 26,
    "start_time": "2022-07-23T20:44:46.466Z"
   },
   {
    "duration": 10,
    "start_time": "2022-07-23T20:44:52.698Z"
   },
   {
    "duration": 71,
    "start_time": "2022-07-23T20:45:02.934Z"
   },
   {
    "duration": 88,
    "start_time": "2022-07-23T20:59:57.345Z"
   },
   {
    "duration": 59,
    "start_time": "2022-07-23T21:00:16.400Z"
   },
   {
    "duration": 70,
    "start_time": "2022-07-23T21:00:52.708Z"
   },
   {
    "duration": 63,
    "start_time": "2022-07-23T21:00:55.898Z"
   },
   {
    "duration": 65,
    "start_time": "2022-07-23T21:01:07.872Z"
   },
   {
    "duration": 74,
    "start_time": "2022-07-23T21:01:09.952Z"
   },
   {
    "duration": 69,
    "start_time": "2022-07-23T21:01:15.442Z"
   },
   {
    "duration": 74,
    "start_time": "2022-07-23T21:01:17.055Z"
   },
   {
    "duration": 58,
    "start_time": "2022-07-23T21:01:18.760Z"
   },
   {
    "duration": 9,
    "start_time": "2022-07-23T21:03:36.072Z"
   },
   {
    "duration": 11,
    "start_time": "2022-07-23T21:03:40.050Z"
   },
   {
    "duration": 10,
    "start_time": "2022-07-23T21:03:50.950Z"
   },
   {
    "duration": 10,
    "start_time": "2022-07-23T21:04:20.950Z"
   },
   {
    "duration": 10,
    "start_time": "2022-07-23T21:04:24.349Z"
   },
   {
    "duration": 49,
    "start_time": "2022-07-23T21:04:33.652Z"
   },
   {
    "duration": 634,
    "start_time": "2022-07-23T23:01:18.892Z"
   },
   {
    "duration": 3,
    "start_time": "2022-07-23T23:01:24.669Z"
   },
   {
    "duration": 160,
    "start_time": "2022-07-23T23:01:24.674Z"
   },
   {
    "duration": 7,
    "start_time": "2022-07-23T23:01:24.835Z"
   },
   {
    "duration": 32,
    "start_time": "2022-07-23T23:01:24.844Z"
   },
   {
    "duration": 2,
    "start_time": "2022-07-23T23:01:24.879Z"
   },
   {
    "duration": 6,
    "start_time": "2022-07-23T23:01:24.883Z"
   },
   {
    "duration": 33,
    "start_time": "2022-07-23T23:01:24.891Z"
   },
   {
    "duration": 4,
    "start_time": "2022-07-23T23:01:24.925Z"
   },
   {
    "duration": 29,
    "start_time": "2022-07-23T23:01:24.931Z"
   },
   {
    "duration": 19,
    "start_time": "2022-07-23T23:01:24.962Z"
   },
   {
    "duration": 46,
    "start_time": "2022-07-23T23:01:24.982Z"
   },
   {
    "duration": 65,
    "start_time": "2022-07-23T23:01:25.030Z"
   },
   {
    "duration": 73,
    "start_time": "2022-07-23T23:01:25.097Z"
   },
   {
    "duration": 62,
    "start_time": "2022-07-23T23:01:25.172Z"
   },
   {
    "duration": 37,
    "start_time": "2022-07-23T23:01:25.236Z"
   },
   {
    "duration": 863,
    "start_time": "2022-07-23T23:01:26.478Z"
   },
   {
    "duration": 788,
    "start_time": "2022-07-23T23:02:25.222Z"
   },
   {
    "duration": 9,
    "start_time": "2022-07-23T23:02:48.791Z"
   },
   {
    "duration": 8,
    "start_time": "2022-07-23T23:03:00.616Z"
   },
   {
    "duration": 54,
    "start_time": "2022-07-23T23:03:06.868Z"
   },
   {
    "duration": 8,
    "start_time": "2022-07-23T23:03:10.549Z"
   },
   {
    "duration": 3,
    "start_time": "2022-07-23T23:03:19.184Z"
   },
   {
    "duration": 165,
    "start_time": "2022-07-23T23:03:19.189Z"
   },
   {
    "duration": 7,
    "start_time": "2022-07-23T23:03:19.356Z"
   },
   {
    "duration": 31,
    "start_time": "2022-07-23T23:03:19.364Z"
   },
   {
    "duration": 3,
    "start_time": "2022-07-23T23:03:19.397Z"
   },
   {
    "duration": 22,
    "start_time": "2022-07-23T23:03:19.402Z"
   },
   {
    "duration": 12,
    "start_time": "2022-07-23T23:03:19.426Z"
   },
   {
    "duration": 3,
    "start_time": "2022-07-23T23:03:19.440Z"
   },
   {
    "duration": 30,
    "start_time": "2022-07-23T23:03:19.445Z"
   },
   {
    "duration": 19,
    "start_time": "2022-07-23T23:03:19.476Z"
   },
   {
    "duration": 42,
    "start_time": "2022-07-23T23:03:19.497Z"
   },
   {
    "duration": 65,
    "start_time": "2022-07-23T23:03:19.540Z"
   },
   {
    "duration": 73,
    "start_time": "2022-07-23T23:03:19.607Z"
   },
   {
    "duration": 71,
    "start_time": "2022-07-23T23:03:19.683Z"
   },
   {
    "duration": 39,
    "start_time": "2022-07-23T23:03:19.756Z"
   },
   {
    "duration": 830,
    "start_time": "2022-07-23T23:03:33.681Z"
   },
   {
    "duration": 858,
    "start_time": "2022-07-23T23:03:34.890Z"
   },
   {
    "duration": 690,
    "start_time": "2022-07-23T23:03:50.245Z"
   },
   {
    "duration": 9,
    "start_time": "2022-07-23T23:04:09.288Z"
   },
   {
    "duration": 8,
    "start_time": "2022-07-23T23:04:13.872Z"
   },
   {
    "duration": 7,
    "start_time": "2022-07-23T23:04:15.251Z"
   },
   {
    "duration": 7,
    "start_time": "2022-07-23T23:04:59.765Z"
   },
   {
    "duration": 7,
    "start_time": "2022-07-23T23:05:01.324Z"
   },
   {
    "duration": 7,
    "start_time": "2022-07-23T23:05:38.818Z"
   },
   {
    "duration": 397,
    "start_time": "2022-07-23T23:06:58.829Z"
   },
   {
    "duration": 165,
    "start_time": "2022-07-23T23:06:59.228Z"
   },
   {
    "duration": 8,
    "start_time": "2022-07-23T23:06:59.395Z"
   },
   {
    "duration": 40,
    "start_time": "2022-07-23T23:06:59.404Z"
   },
   {
    "duration": 2,
    "start_time": "2022-07-23T23:06:59.446Z"
   },
   {
    "duration": 6,
    "start_time": "2022-07-23T23:06:59.450Z"
   },
   {
    "duration": 14,
    "start_time": "2022-07-23T23:06:59.458Z"
   },
   {
    "duration": 6,
    "start_time": "2022-07-23T23:06:59.474Z"
   },
   {
    "duration": 46,
    "start_time": "2022-07-23T23:06:59.482Z"
   },
   {
    "duration": 17,
    "start_time": "2022-07-23T23:06:59.529Z"
   },
   {
    "duration": 24,
    "start_time": "2022-07-23T23:06:59.548Z"
   },
   {
    "duration": 81,
    "start_time": "2022-07-23T23:06:59.573Z"
   },
   {
    "duration": 79,
    "start_time": "2022-07-23T23:06:59.655Z"
   },
   {
    "duration": 59,
    "start_time": "2022-07-23T23:06:59.738Z"
   },
   {
    "duration": 54,
    "start_time": "2022-07-23T23:06:59.798Z"
   },
   {
    "duration": 9,
    "start_time": "2022-07-23T23:06:59.854Z"
   },
   {
    "duration": 6,
    "start_time": "2022-07-23T23:06:59.864Z"
   },
   {
    "duration": 8,
    "start_time": "2022-07-23T23:06:59.871Z"
   },
   {
    "duration": 5,
    "start_time": "2022-07-23T23:06:59.880Z"
   },
   {
    "duration": 15,
    "start_time": "2022-07-23T23:06:59.887Z"
   },
   {
    "duration": 16,
    "start_time": "2022-07-23T23:06:59.904Z"
   },
   {
    "duration": 10,
    "start_time": "2022-07-23T23:06:59.922Z"
   },
   {
    "duration": 5,
    "start_time": "2022-07-23T23:06:59.935Z"
   },
   {
    "duration": 6,
    "start_time": "2022-07-23T23:06:59.942Z"
   },
   {
    "duration": 8,
    "start_time": "2022-07-23T23:06:59.950Z"
   },
   {
    "duration": 7,
    "start_time": "2022-07-23T23:06:59.960Z"
   },
   {
    "duration": 8,
    "start_time": "2022-07-23T23:06:59.969Z"
   },
   {
    "duration": 10,
    "start_time": "2022-07-23T23:06:59.979Z"
   },
   {
    "duration": 6,
    "start_time": "2022-07-23T23:06:59.991Z"
   },
   {
    "duration": 67,
    "start_time": "2022-07-23T23:06:59.999Z"
   },
   {
    "duration": 0,
    "start_time": "2022-07-23T23:07:00.068Z"
   },
   {
    "duration": 0,
    "start_time": "2022-07-23T23:07:00.070Z"
   },
   {
    "duration": 0,
    "start_time": "2022-07-23T23:07:00.071Z"
   },
   {
    "duration": 0,
    "start_time": "2022-07-23T23:07:00.073Z"
   },
   {
    "duration": 0,
    "start_time": "2022-07-23T23:07:00.074Z"
   },
   {
    "duration": 0,
    "start_time": "2022-07-23T23:07:00.076Z"
   },
   {
    "duration": 0,
    "start_time": "2022-07-23T23:07:00.077Z"
   },
   {
    "duration": 0,
    "start_time": "2022-07-23T23:07:00.078Z"
   },
   {
    "duration": 12,
    "start_time": "2022-07-23T23:07:26.676Z"
   },
   {
    "duration": 9,
    "start_time": "2022-07-23T23:09:55.900Z"
   },
   {
    "duration": 11,
    "start_time": "2022-07-23T23:09:57.082Z"
   },
   {
    "duration": 44,
    "start_time": "2022-07-24T11:50:26.434Z"
   },
   {
    "duration": 409,
    "start_time": "2022-07-24T11:50:32.051Z"
   },
   {
    "duration": 271,
    "start_time": "2022-07-24T11:50:32.463Z"
   },
   {
    "duration": 9,
    "start_time": "2022-07-24T11:50:32.737Z"
   },
   {
    "duration": 62,
    "start_time": "2022-07-24T11:50:32.748Z"
   },
   {
    "duration": 8,
    "start_time": "2022-07-24T11:50:32.812Z"
   },
   {
    "duration": 22,
    "start_time": "2022-07-24T11:50:32.822Z"
   },
   {
    "duration": 19,
    "start_time": "2022-07-24T11:50:32.845Z"
   },
   {
    "duration": 27,
    "start_time": "2022-07-24T11:50:32.866Z"
   },
   {
    "duration": 41,
    "start_time": "2022-07-24T11:50:32.895Z"
   },
   {
    "duration": 26,
    "start_time": "2022-07-24T11:50:32.937Z"
   },
   {
    "duration": 25,
    "start_time": "2022-07-24T11:50:32.964Z"
   },
   {
    "duration": 64,
    "start_time": "2022-07-24T11:50:32.991Z"
   },
   {
    "duration": 70,
    "start_time": "2022-07-24T11:50:33.057Z"
   },
   {
    "duration": 70,
    "start_time": "2022-07-24T11:50:33.130Z"
   },
   {
    "duration": 38,
    "start_time": "2022-07-24T11:50:33.202Z"
   },
   {
    "duration": 22,
    "start_time": "2022-07-24T11:50:33.242Z"
   },
   {
    "duration": 29,
    "start_time": "2022-07-24T11:50:34.229Z"
   },
   {
    "duration": 38,
    "start_time": "2022-07-24T11:50:53.659Z"
   },
   {
    "duration": 10,
    "start_time": "2022-07-24T11:57:06.687Z"
   },
   {
    "duration": 10,
    "start_time": "2022-07-24T11:59:00.330Z"
   },
   {
    "duration": 15,
    "start_time": "2022-07-24T11:59:59.773Z"
   },
   {
    "duration": 77,
    "start_time": "2022-07-24T13:03:02.757Z"
   },
   {
    "duration": 12,
    "start_time": "2022-07-24T13:03:08.635Z"
   },
   {
    "duration": 20,
    "start_time": "2022-07-24T13:03:24.064Z"
   },
   {
    "duration": 3,
    "start_time": "2022-07-24T14:09:00.621Z"
   },
   {
    "duration": 13,
    "start_time": "2022-07-24T14:46:22.040Z"
   },
   {
    "duration": 15,
    "start_time": "2022-07-24T14:47:52.973Z"
   },
   {
    "duration": 3,
    "start_time": "2022-07-24T14:52:02.682Z"
   },
   {
    "duration": 195,
    "start_time": "2022-07-24T14:52:02.687Z"
   },
   {
    "duration": 7,
    "start_time": "2022-07-24T14:52:02.884Z"
   },
   {
    "duration": 46,
    "start_time": "2022-07-24T14:52:02.893Z"
   },
   {
    "duration": 3,
    "start_time": "2022-07-24T14:52:02.940Z"
   },
   {
    "duration": 29,
    "start_time": "2022-07-24T14:52:02.944Z"
   },
   {
    "duration": 13,
    "start_time": "2022-07-24T14:52:02.974Z"
   },
   {
    "duration": 4,
    "start_time": "2022-07-24T14:52:02.988Z"
   },
   {
    "duration": 34,
    "start_time": "2022-07-24T14:52:03.008Z"
   },
   {
    "duration": 17,
    "start_time": "2022-07-24T14:52:03.045Z"
   },
   {
    "duration": 23,
    "start_time": "2022-07-24T14:52:03.063Z"
   },
   {
    "duration": 59,
    "start_time": "2022-07-24T14:52:03.088Z"
   },
   {
    "duration": 76,
    "start_time": "2022-07-24T14:52:03.149Z"
   },
   {
    "duration": 73,
    "start_time": "2022-07-24T14:52:03.226Z"
   },
   {
    "duration": 38,
    "start_time": "2022-07-24T14:52:03.301Z"
   },
   {
    "duration": 22,
    "start_time": "2022-07-24T14:52:03.341Z"
   },
   {
    "duration": 45,
    "start_time": "2022-07-24T14:52:03.365Z"
   },
   {
    "duration": 12,
    "start_time": "2022-07-24T14:52:03.411Z"
   },
   {
    "duration": 9,
    "start_time": "2022-07-24T14:52:03.425Z"
   },
   {
    "duration": 3,
    "start_time": "2022-07-24T14:52:03.464Z"
   },
   {
    "duration": 24,
    "start_time": "2022-07-24T14:52:03.468Z"
   },
   {
    "duration": 14,
    "start_time": "2022-07-24T14:52:03.493Z"
   },
   {
    "duration": 21,
    "start_time": "2022-07-24T14:52:03.508Z"
   },
   {
    "duration": 34,
    "start_time": "2022-07-24T14:52:03.530Z"
   },
   {
    "duration": 19,
    "start_time": "2022-07-24T14:52:03.566Z"
   },
   {
    "duration": 14,
    "start_time": "2022-07-24T14:52:03.586Z"
   },
   {
    "duration": 10,
    "start_time": "2022-07-24T14:52:03.978Z"
   },
   {
    "duration": 21,
    "start_time": "2022-07-24T14:55:19.067Z"
   },
   {
    "duration": 3,
    "start_time": "2022-07-24T14:55:45.499Z"
   },
   {
    "duration": 171,
    "start_time": "2022-07-24T14:55:45.505Z"
   },
   {
    "duration": 7,
    "start_time": "2022-07-24T14:55:45.677Z"
   },
   {
    "duration": 29,
    "start_time": "2022-07-24T14:55:45.686Z"
   },
   {
    "duration": 2,
    "start_time": "2022-07-24T14:55:45.717Z"
   },
   {
    "duration": 9,
    "start_time": "2022-07-24T14:55:45.721Z"
   },
   {
    "duration": 10,
    "start_time": "2022-07-24T14:55:45.732Z"
   },
   {
    "duration": 23,
    "start_time": "2022-07-24T14:55:45.743Z"
   },
   {
    "duration": 33,
    "start_time": "2022-07-24T14:55:45.767Z"
   },
   {
    "duration": 21,
    "start_time": "2022-07-24T14:55:45.802Z"
   },
   {
    "duration": 39,
    "start_time": "2022-07-24T14:55:45.825Z"
   },
   {
    "duration": 63,
    "start_time": "2022-07-24T14:55:45.866Z"
   },
   {
    "duration": 78,
    "start_time": "2022-07-24T14:55:45.931Z"
   },
   {
    "duration": 65,
    "start_time": "2022-07-24T14:55:46.011Z"
   },
   {
    "duration": 39,
    "start_time": "2022-07-24T14:55:46.078Z"
   },
   {
    "duration": 10,
    "start_time": "2022-07-24T14:55:46.118Z"
   },
   {
    "duration": 59,
    "start_time": "2022-07-24T14:55:46.129Z"
   },
   {
    "duration": 11,
    "start_time": "2022-07-24T14:55:46.190Z"
   },
   {
    "duration": 11,
    "start_time": "2022-07-24T14:55:46.202Z"
   },
   {
    "duration": 4,
    "start_time": "2022-07-24T14:55:46.214Z"
   },
   {
    "duration": 23,
    "start_time": "2022-07-24T14:55:46.219Z"
   },
   {
    "duration": 15,
    "start_time": "2022-07-24T14:55:46.264Z"
   },
   {
    "duration": 15,
    "start_time": "2022-07-24T14:55:46.280Z"
   },
   {
    "duration": 14,
    "start_time": "2022-07-24T14:55:46.297Z"
   },
   {
    "duration": 21,
    "start_time": "2022-07-24T14:55:46.313Z"
   },
   {
    "duration": 34,
    "start_time": "2022-07-24T14:55:46.336Z"
   },
   {
    "duration": 8,
    "start_time": "2022-07-24T14:55:46.372Z"
   },
   {
    "duration": 20,
    "start_time": "2022-07-24T14:55:46.383Z"
   },
   {
    "duration": 13,
    "start_time": "2022-07-24T14:55:48.229Z"
   },
   {
    "duration": 21,
    "start_time": "2022-07-24T14:56:15.019Z"
   },
   {
    "duration": 20,
    "start_time": "2022-07-24T14:56:17.537Z"
   },
   {
    "duration": 425,
    "start_time": "2022-07-24T14:56:23.277Z"
   },
   {
    "duration": 227,
    "start_time": "2022-07-24T14:56:23.704Z"
   },
   {
    "duration": 38,
    "start_time": "2022-07-24T14:56:23.933Z"
   },
   {
    "duration": 39,
    "start_time": "2022-07-24T14:56:23.975Z"
   },
   {
    "duration": 24,
    "start_time": "2022-07-24T14:56:24.016Z"
   },
   {
    "duration": 20,
    "start_time": "2022-07-24T14:56:24.042Z"
   },
   {
    "duration": 21,
    "start_time": "2022-07-24T14:56:24.064Z"
   },
   {
    "duration": 48,
    "start_time": "2022-07-24T14:56:24.087Z"
   },
   {
    "duration": 44,
    "start_time": "2022-07-24T14:56:24.136Z"
   },
   {
    "duration": 28,
    "start_time": "2022-07-24T14:56:24.183Z"
   },
   {
    "duration": 38,
    "start_time": "2022-07-24T14:56:24.214Z"
   },
   {
    "duration": 79,
    "start_time": "2022-07-24T14:56:24.254Z"
   },
   {
    "duration": 85,
    "start_time": "2022-07-24T14:56:24.335Z"
   },
   {
    "duration": 69,
    "start_time": "2022-07-24T14:56:24.421Z"
   },
   {
    "duration": 39,
    "start_time": "2022-07-24T14:56:24.491Z"
   },
   {
    "duration": 10,
    "start_time": "2022-07-24T14:56:24.532Z"
   },
   {
    "duration": 57,
    "start_time": "2022-07-24T14:56:24.543Z"
   },
   {
    "duration": 12,
    "start_time": "2022-07-24T14:56:24.601Z"
   },
   {
    "duration": 11,
    "start_time": "2022-07-24T14:56:24.614Z"
   },
   {
    "duration": 5,
    "start_time": "2022-07-24T14:56:24.626Z"
   },
   {
    "duration": 39,
    "start_time": "2022-07-24T14:56:24.632Z"
   },
   {
    "duration": 14,
    "start_time": "2022-07-24T14:56:24.673Z"
   },
   {
    "duration": 23,
    "start_time": "2022-07-24T14:56:24.689Z"
   },
   {
    "duration": 19,
    "start_time": "2022-07-24T14:56:24.714Z"
   },
   {
    "duration": 29,
    "start_time": "2022-07-24T14:56:24.735Z"
   },
   {
    "duration": 14,
    "start_time": "2022-07-24T14:56:24.766Z"
   },
   {
    "duration": 12,
    "start_time": "2022-07-24T14:56:24.781Z"
   },
   {
    "duration": 21,
    "start_time": "2022-07-24T14:56:24.797Z"
   },
   {
    "duration": 20,
    "start_time": "2022-07-24T14:56:24.820Z"
   },
   {
    "duration": 69,
    "start_time": "2022-07-24T14:56:24.864Z"
   },
   {
    "duration": 0,
    "start_time": "2022-07-24T14:56:24.935Z"
   },
   {
    "duration": 0,
    "start_time": "2022-07-24T14:56:24.936Z"
   },
   {
    "duration": 0,
    "start_time": "2022-07-24T14:56:24.937Z"
   },
   {
    "duration": 0,
    "start_time": "2022-07-24T14:56:24.938Z"
   },
   {
    "duration": 0,
    "start_time": "2022-07-24T14:56:24.940Z"
   },
   {
    "duration": 0,
    "start_time": "2022-07-24T14:56:24.941Z"
   },
   {
    "duration": 0,
    "start_time": "2022-07-24T14:56:24.943Z"
   },
   {
    "duration": 0,
    "start_time": "2022-07-24T14:56:24.944Z"
   },
   {
    "duration": 3,
    "start_time": "2022-07-24T14:58:05.258Z"
   },
   {
    "duration": 214,
    "start_time": "2022-07-24T14:58:05.263Z"
   },
   {
    "duration": 7,
    "start_time": "2022-07-24T14:58:05.479Z"
   },
   {
    "duration": 37,
    "start_time": "2022-07-24T14:58:05.488Z"
   },
   {
    "duration": 2,
    "start_time": "2022-07-24T14:58:05.527Z"
   },
   {
    "duration": 9,
    "start_time": "2022-07-24T14:58:05.530Z"
   },
   {
    "duration": 26,
    "start_time": "2022-07-24T14:58:05.541Z"
   },
   {
    "duration": 3,
    "start_time": "2022-07-24T14:58:05.569Z"
   },
   {
    "duration": 30,
    "start_time": "2022-07-24T14:58:05.573Z"
   },
   {
    "duration": 30,
    "start_time": "2022-07-24T14:58:05.607Z"
   },
   {
    "duration": 61,
    "start_time": "2022-07-24T14:58:05.640Z"
   },
   {
    "duration": 78,
    "start_time": "2022-07-24T14:58:05.703Z"
   },
   {
    "duration": 62,
    "start_time": "2022-07-24T14:58:05.783Z"
   },
   {
    "duration": 69,
    "start_time": "2022-07-24T14:58:05.847Z"
   },
   {
    "duration": 53,
    "start_time": "2022-07-24T14:58:05.918Z"
   },
   {
    "duration": 14,
    "start_time": "2022-07-24T14:58:05.973Z"
   },
   {
    "duration": 57,
    "start_time": "2022-07-24T14:58:05.990Z"
   },
   {
    "duration": 16,
    "start_time": "2022-07-24T14:58:06.063Z"
   },
   {
    "duration": 21,
    "start_time": "2022-07-24T14:58:06.081Z"
   },
   {
    "duration": 4,
    "start_time": "2022-07-24T14:58:06.104Z"
   },
   {
    "duration": 33,
    "start_time": "2022-07-24T14:58:06.109Z"
   },
   {
    "duration": 33,
    "start_time": "2022-07-24T14:58:06.144Z"
   },
   {
    "duration": 23,
    "start_time": "2022-07-24T14:58:06.179Z"
   },
   {
    "duration": 15,
    "start_time": "2022-07-24T14:58:06.204Z"
   },
   {
    "duration": 46,
    "start_time": "2022-07-24T14:58:06.221Z"
   },
   {
    "duration": 14,
    "start_time": "2022-07-24T14:58:06.269Z"
   },
   {
    "duration": 13,
    "start_time": "2022-07-24T14:58:06.285Z"
   },
   {
    "duration": 32,
    "start_time": "2022-07-24T15:00:07.018Z"
   },
   {
    "duration": 436,
    "start_time": "2022-07-24T15:01:37.937Z"
   },
   {
    "duration": 167,
    "start_time": "2022-07-24T15:01:38.375Z"
   },
   {
    "duration": 9,
    "start_time": "2022-07-24T15:01:38.543Z"
   },
   {
    "duration": 37,
    "start_time": "2022-07-24T15:01:38.554Z"
   },
   {
    "duration": 2,
    "start_time": "2022-07-24T15:01:38.593Z"
   },
   {
    "duration": 6,
    "start_time": "2022-07-24T15:01:38.597Z"
   },
   {
    "duration": 20,
    "start_time": "2022-07-24T15:01:38.604Z"
   },
   {
    "duration": 8,
    "start_time": "2022-07-24T15:01:38.626Z"
   },
   {
    "duration": 49,
    "start_time": "2022-07-24T15:01:38.636Z"
   },
   {
    "duration": 19,
    "start_time": "2022-07-24T15:01:38.688Z"
   },
   {
    "duration": 26,
    "start_time": "2022-07-24T15:01:38.708Z"
   },
   {
    "duration": 106,
    "start_time": "2022-07-24T15:01:38.736Z"
   },
   {
    "duration": 89,
    "start_time": "2022-07-24T15:01:38.845Z"
   },
   {
    "duration": 85,
    "start_time": "2022-07-24T15:01:38.936Z"
   },
   {
    "duration": 52,
    "start_time": "2022-07-24T15:01:39.023Z"
   },
   {
    "duration": 15,
    "start_time": "2022-07-24T15:01:39.077Z"
   },
   {
    "duration": 50,
    "start_time": "2022-07-24T15:01:39.093Z"
   },
   {
    "duration": 32,
    "start_time": "2022-07-24T15:01:39.145Z"
   },
   {
    "duration": 23,
    "start_time": "2022-07-24T15:01:39.180Z"
   },
   {
    "duration": 5,
    "start_time": "2022-07-24T15:01:39.205Z"
   },
   {
    "duration": 22,
    "start_time": "2022-07-24T15:01:39.212Z"
   },
   {
    "duration": 36,
    "start_time": "2022-07-24T15:01:39.236Z"
   },
   {
    "duration": 16,
    "start_time": "2022-07-24T15:01:39.274Z"
   },
   {
    "duration": 14,
    "start_time": "2022-07-24T15:01:39.291Z"
   },
   {
    "duration": 19,
    "start_time": "2022-07-24T15:01:39.306Z"
   },
   {
    "duration": 16,
    "start_time": "2022-07-24T15:01:39.326Z"
   },
   {
    "duration": 19,
    "start_time": "2022-07-24T15:01:39.344Z"
   },
   {
    "duration": 24,
    "start_time": "2022-07-24T15:01:39.367Z"
   },
   {
    "duration": 21,
    "start_time": "2022-07-24T15:01:39.393Z"
   },
   {
    "duration": 52,
    "start_time": "2022-07-24T15:01:39.415Z"
   },
   {
    "duration": 0,
    "start_time": "2022-07-24T15:01:39.468Z"
   },
   {
    "duration": 0,
    "start_time": "2022-07-24T15:01:39.470Z"
   },
   {
    "duration": 0,
    "start_time": "2022-07-24T15:01:39.471Z"
   },
   {
    "duration": 0,
    "start_time": "2022-07-24T15:01:39.472Z"
   },
   {
    "duration": 0,
    "start_time": "2022-07-24T15:01:39.473Z"
   },
   {
    "duration": 0,
    "start_time": "2022-07-24T15:01:39.474Z"
   },
   {
    "duration": 1,
    "start_time": "2022-07-24T15:01:39.474Z"
   },
   {
    "duration": 0,
    "start_time": "2022-07-24T15:01:39.476Z"
   },
   {
    "duration": 73,
    "start_time": "2022-07-24T16:02:03.971Z"
   },
   {
    "duration": 95,
    "start_time": "2022-07-24T16:02:12.936Z"
   },
   {
    "duration": 4,
    "start_time": "2022-07-24T16:02:31.156Z"
   },
   {
    "duration": 7,
    "start_time": "2022-07-24T16:02:32.474Z"
   },
   {
    "duration": 66,
    "start_time": "2022-07-24T16:45:45.526Z"
   },
   {
    "duration": 9,
    "start_time": "2022-07-24T16:46:00.492Z"
   },
   {
    "duration": 12,
    "start_time": "2022-07-24T16:46:02.705Z"
   },
   {
    "duration": 41,
    "start_time": "2022-07-24T16:46:21.236Z"
   },
   {
    "duration": 13,
    "start_time": "2022-07-24T16:47:08.925Z"
   },
   {
    "duration": 10,
    "start_time": "2022-07-24T16:47:44.491Z"
   },
   {
    "duration": 6,
    "start_time": "2022-07-24T16:47:55.408Z"
   },
   {
    "duration": 9,
    "start_time": "2022-07-24T16:48:06.779Z"
   },
   {
    "duration": 9,
    "start_time": "2022-07-24T16:48:16.577Z"
   },
   {
    "duration": 8,
    "start_time": "2022-07-24T16:48:37.778Z"
   },
   {
    "duration": 9,
    "start_time": "2022-07-24T16:48:47.782Z"
   },
   {
    "duration": 3,
    "start_time": "2022-07-24T16:48:52.428Z"
   },
   {
    "duration": 189,
    "start_time": "2022-07-24T16:48:52.433Z"
   },
   {
    "duration": 7,
    "start_time": "2022-07-24T16:48:52.625Z"
   },
   {
    "duration": 58,
    "start_time": "2022-07-24T16:48:52.634Z"
   },
   {
    "duration": 3,
    "start_time": "2022-07-24T16:48:52.695Z"
   },
   {
    "duration": 15,
    "start_time": "2022-07-24T16:48:52.700Z"
   },
   {
    "duration": 13,
    "start_time": "2022-07-24T16:48:52.717Z"
   },
   {
    "duration": 7,
    "start_time": "2022-07-24T16:48:52.733Z"
   },
   {
    "duration": 55,
    "start_time": "2022-07-24T16:48:52.742Z"
   },
   {
    "duration": 32,
    "start_time": "2022-07-24T16:48:52.799Z"
   },
   {
    "duration": 54,
    "start_time": "2022-07-24T16:48:52.833Z"
   },
   {
    "duration": 82,
    "start_time": "2022-07-24T16:48:52.889Z"
   },
   {
    "duration": 68,
    "start_time": "2022-07-24T16:48:52.973Z"
   },
   {
    "duration": 68,
    "start_time": "2022-07-24T16:48:53.045Z"
   },
   {
    "duration": 37,
    "start_time": "2022-07-24T16:48:53.115Z"
   },
   {
    "duration": 18,
    "start_time": "2022-07-24T16:48:53.166Z"
   },
   {
    "duration": 36,
    "start_time": "2022-07-24T16:48:53.186Z"
   },
   {
    "duration": 11,
    "start_time": "2022-07-24T16:48:53.224Z"
   },
   {
    "duration": 32,
    "start_time": "2022-07-24T16:48:53.237Z"
   },
   {
    "duration": 4,
    "start_time": "2022-07-24T16:48:53.272Z"
   },
   {
    "duration": 25,
    "start_time": "2022-07-24T16:48:53.277Z"
   },
   {
    "duration": 14,
    "start_time": "2022-07-24T16:48:53.303Z"
   },
   {
    "duration": 14,
    "start_time": "2022-07-24T16:48:53.319Z"
   },
   {
    "duration": 33,
    "start_time": "2022-07-24T16:48:53.335Z"
   },
   {
    "duration": 33,
    "start_time": "2022-07-24T16:48:53.369Z"
   },
   {
    "duration": 21,
    "start_time": "2022-07-24T16:48:53.404Z"
   },
   {
    "duration": 9,
    "start_time": "2022-07-24T16:48:53.426Z"
   },
   {
    "duration": 13,
    "start_time": "2022-07-24T16:48:53.437Z"
   },
   {
    "duration": 25,
    "start_time": "2022-07-24T16:48:53.451Z"
   },
   {
    "duration": 8,
    "start_time": "2022-07-24T16:48:53.480Z"
   },
   {
    "duration": 24,
    "start_time": "2022-07-24T16:48:53.490Z"
   },
   {
    "duration": 10,
    "start_time": "2022-07-24T16:48:53.516Z"
   },
   {
    "duration": 18,
    "start_time": "2022-07-24T16:48:53.528Z"
   },
   {
    "duration": 33,
    "start_time": "2022-07-24T16:48:53.548Z"
   },
   {
    "duration": 9,
    "start_time": "2022-07-24T16:48:53.583Z"
   },
   {
    "duration": 9,
    "start_time": "2022-07-24T16:48:58.891Z"
   },
   {
    "duration": 9,
    "start_time": "2022-07-24T16:49:25.205Z"
   },
   {
    "duration": 3,
    "start_time": "2022-07-24T16:49:29.995Z"
   },
   {
    "duration": 186,
    "start_time": "2022-07-24T16:49:29.999Z"
   },
   {
    "duration": 6,
    "start_time": "2022-07-24T16:49:30.187Z"
   },
   {
    "duration": 50,
    "start_time": "2022-07-24T16:49:30.195Z"
   },
   {
    "duration": 10,
    "start_time": "2022-07-24T16:49:30.247Z"
   },
   {
    "duration": 23,
    "start_time": "2022-07-24T16:49:30.259Z"
   },
   {
    "duration": 20,
    "start_time": "2022-07-24T16:49:30.283Z"
   },
   {
    "duration": 12,
    "start_time": "2022-07-24T16:49:30.305Z"
   },
   {
    "duration": 35,
    "start_time": "2022-07-24T16:49:30.319Z"
   },
   {
    "duration": 54,
    "start_time": "2022-07-24T16:49:30.357Z"
   },
   {
    "duration": 61,
    "start_time": "2022-07-24T16:49:30.413Z"
   },
   {
    "duration": 73,
    "start_time": "2022-07-24T16:49:30.483Z"
   },
   {
    "duration": 73,
    "start_time": "2022-07-24T16:49:30.558Z"
   },
   {
    "duration": 84,
    "start_time": "2022-07-24T16:49:30.634Z"
   },
   {
    "duration": 62,
    "start_time": "2022-07-24T16:49:30.719Z"
   },
   {
    "duration": 23,
    "start_time": "2022-07-24T16:49:30.783Z"
   },
   {
    "duration": 54,
    "start_time": "2022-07-24T16:49:30.808Z"
   },
   {
    "duration": 37,
    "start_time": "2022-07-24T16:49:30.864Z"
   },
   {
    "duration": 18,
    "start_time": "2022-07-24T16:49:30.903Z"
   },
   {
    "duration": 11,
    "start_time": "2022-07-24T16:49:30.923Z"
   },
   {
    "duration": 36,
    "start_time": "2022-07-24T16:49:30.936Z"
   },
   {
    "duration": 22,
    "start_time": "2022-07-24T16:49:30.974Z"
   },
   {
    "duration": 24,
    "start_time": "2022-07-24T16:49:30.998Z"
   },
   {
    "duration": 25,
    "start_time": "2022-07-24T16:49:31.024Z"
   },
   {
    "duration": 29,
    "start_time": "2022-07-24T16:49:31.050Z"
   },
   {
    "duration": 17,
    "start_time": "2022-07-24T16:49:31.081Z"
   },
   {
    "duration": 14,
    "start_time": "2022-07-24T16:49:31.100Z"
   },
   {
    "duration": 27,
    "start_time": "2022-07-24T16:49:31.116Z"
   },
   {
    "duration": 28,
    "start_time": "2022-07-24T16:49:31.145Z"
   },
   {
    "duration": 15,
    "start_time": "2022-07-24T16:49:31.178Z"
   },
   {
    "duration": 23,
    "start_time": "2022-07-24T16:49:31.195Z"
   },
   {
    "duration": 12,
    "start_time": "2022-07-24T16:49:31.220Z"
   },
   {
    "duration": 25,
    "start_time": "2022-07-24T16:49:31.234Z"
   },
   {
    "duration": 25,
    "start_time": "2022-07-24T16:49:31.261Z"
   },
   {
    "duration": 18,
    "start_time": "2022-07-24T16:49:31.290Z"
   },
   {
    "duration": 5,
    "start_time": "2022-07-24T16:49:42.917Z"
   },
   {
    "duration": 45,
    "start_time": "2022-07-24T16:49:51.404Z"
   },
   {
    "duration": 12,
    "start_time": "2022-07-24T16:50:55.937Z"
   },
   {
    "duration": 19,
    "start_time": "2022-07-24T16:51:07.364Z"
   },
   {
    "duration": 5,
    "start_time": "2022-07-24T16:52:02.014Z"
   },
   {
    "duration": 6,
    "start_time": "2022-07-24T16:54:37.006Z"
   },
   {
    "duration": 8,
    "start_time": "2022-07-24T16:54:41.290Z"
   },
   {
    "duration": 7,
    "start_time": "2022-07-24T16:54:47.678Z"
   },
   {
    "duration": 4,
    "start_time": "2022-08-15T09:32:17.352Z"
   },
   {
    "duration": 3,
    "start_time": "2022-08-15T09:32:17.509Z"
   },
   {
    "duration": 3,
    "start_time": "2022-08-15T09:32:17.588Z"
   },
   {
    "duration": 3,
    "start_time": "2022-08-15T09:32:17.671Z"
   },
   {
    "duration": 2,
    "start_time": "2022-08-15T09:32:17.755Z"
   },
   {
    "duration": 2,
    "start_time": "2022-08-15T09:32:17.838Z"
   },
   {
    "duration": 2,
    "start_time": "2022-08-15T09:32:17.922Z"
   },
   {
    "duration": 2,
    "start_time": "2022-08-15T09:32:18.090Z"
   },
   {
    "duration": 5,
    "start_time": "2022-08-15T09:32:18.512Z"
   },
   {
    "duration": 2,
    "start_time": "2022-08-15T09:32:18.593Z"
   },
   {
    "duration": 133,
    "start_time": "2022-08-15T09:32:18.760Z"
   },
   {
    "duration": 3,
    "start_time": "2022-08-15T09:32:18.929Z"
   },
   {
    "duration": 2,
    "start_time": "2022-08-15T09:32:19.011Z"
   },
   {
    "duration": 2,
    "start_time": "2022-08-15T09:32:19.095Z"
   },
   {
    "duration": 2,
    "start_time": "2022-08-15T09:32:19.179Z"
   },
   {
    "duration": 3,
    "start_time": "2022-08-15T09:32:20.322Z"
   },
   {
    "duration": 2,
    "start_time": "2022-08-15T09:32:20.679Z"
   },
   {
    "duration": 2,
    "start_time": "2022-08-15T09:32:21.012Z"
   },
   {
    "duration": 3,
    "start_time": "2022-08-15T09:32:21.568Z"
   },
   {
    "duration": 340,
    "start_time": "2022-08-15T09:40:24.743Z"
   },
   {
    "duration": 229,
    "start_time": "2022-08-15T09:41:08.594Z"
   },
   {
    "duration": 16,
    "start_time": "2022-08-15T09:41:21.683Z"
   },
   {
    "duration": 28,
    "start_time": "2022-08-15T09:41:34.954Z"
   },
   {
    "duration": 3,
    "start_time": "2022-08-15T09:43:22.670Z"
   },
   {
    "duration": 12,
    "start_time": "2022-08-15T09:44:06.351Z"
   },
   {
    "duration": 4,
    "start_time": "2022-08-15T09:44:12.674Z"
   },
   {
    "duration": 22,
    "start_time": "2022-08-15T09:44:51.119Z"
   },
   {
    "duration": 19,
    "start_time": "2022-08-15T09:47:07.403Z"
   },
   {
    "duration": 69,
    "start_time": "2022-08-15T09:54:26.334Z"
   },
   {
    "duration": 83,
    "start_time": "2022-08-15T09:54:44.936Z"
   },
   {
    "duration": 64,
    "start_time": "2022-08-15T09:55:02.610Z"
   },
   {
    "duration": 78,
    "start_time": "2022-08-15T09:55:05.916Z"
   },
   {
    "duration": 73,
    "start_time": "2022-08-15T09:55:32.688Z"
   },
   {
    "duration": 75,
    "start_time": "2022-08-15T09:55:36.967Z"
   },
   {
    "duration": 60,
    "start_time": "2022-08-15T09:55:37.878Z"
   },
   {
    "duration": 34,
    "start_time": "2022-08-15T09:57:34.302Z"
   },
   {
    "duration": 102,
    "start_time": "2022-08-15T09:58:59.580Z"
   },
   {
    "duration": 36,
    "start_time": "2022-08-15T09:59:10.498Z"
   },
   {
    "duration": 67,
    "start_time": "2022-08-15T09:59:14.516Z"
   },
   {
    "duration": 34,
    "start_time": "2022-08-15T09:59:15.045Z"
   },
   {
    "duration": 5,
    "start_time": "2022-08-15T10:00:17.482Z"
   },
   {
    "duration": 30,
    "start_time": "2022-08-15T10:00:28.829Z"
   },
   {
    "duration": 16,
    "start_time": "2022-08-15T10:00:44.675Z"
   },
   {
    "duration": 11,
    "start_time": "2022-08-15T10:02:08.477Z"
   },
   {
    "duration": 11,
    "start_time": "2022-08-15T10:06:41.882Z"
   },
   {
    "duration": 11,
    "start_time": "2022-08-15T10:06:42.048Z"
   },
   {
    "duration": 9,
    "start_time": "2022-08-15T10:06:42.203Z"
   },
   {
    "duration": 8,
    "start_time": "2022-08-15T10:06:46.520Z"
   },
   {
    "duration": 16,
    "start_time": "2022-08-15T10:06:47.594Z"
   },
   {
    "duration": 13,
    "start_time": "2022-08-15T10:06:48.236Z"
   },
   {
    "duration": 14,
    "start_time": "2022-08-15T10:06:48.524Z"
   },
   {
    "duration": 16,
    "start_time": "2022-08-15T10:06:48.838Z"
   },
   {
    "duration": 14,
    "start_time": "2022-08-15T10:06:49.142Z"
   },
   {
    "duration": 13,
    "start_time": "2022-08-15T10:06:49.441Z"
   },
   {
    "duration": 17,
    "start_time": "2022-08-15T10:07:27.498Z"
   },
   {
    "duration": 14,
    "start_time": "2022-08-15T10:07:27.639Z"
   },
   {
    "duration": 16,
    "start_time": "2022-08-15T10:07:27.773Z"
   },
   {
    "duration": 14,
    "start_time": "2022-08-15T10:07:27.900Z"
   },
   {
    "duration": 15,
    "start_time": "2022-08-15T10:07:28.033Z"
   },
   {
    "duration": 15,
    "start_time": "2022-08-15T10:07:28.136Z"
   },
   {
    "duration": 3,
    "start_time": "2022-08-15T10:08:43.985Z"
   },
   {
    "duration": 7,
    "start_time": "2022-08-15T10:08:44.112Z"
   },
   {
    "duration": 15,
    "start_time": "2022-08-15T10:08:44.267Z"
   },
   {
    "duration": 16,
    "start_time": "2022-08-15T10:08:44.395Z"
   },
   {
    "duration": 15,
    "start_time": "2022-08-15T10:08:44.521Z"
   },
   {
    "duration": 8,
    "start_time": "2022-08-15T10:08:59.211Z"
   },
   {
    "duration": 16,
    "start_time": "2022-08-15T10:09:03.151Z"
   },
   {
    "duration": 14,
    "start_time": "2022-08-15T10:09:03.711Z"
   },
   {
    "duration": 18,
    "start_time": "2022-08-15T10:09:03.920Z"
   },
   {
    "duration": 16,
    "start_time": "2022-08-15T10:09:04.164Z"
   },
   {
    "duration": 27,
    "start_time": "2022-08-15T10:09:04.364Z"
   },
   {
    "duration": 17,
    "start_time": "2022-08-15T10:09:04.607Z"
   },
   {
    "duration": 15,
    "start_time": "2022-08-15T10:09:24.826Z"
   },
   {
    "duration": 9,
    "start_time": "2022-08-15T10:10:53.859Z"
   },
   {
    "duration": 13,
    "start_time": "2022-08-15T10:11:04.110Z"
   },
   {
    "duration": 63,
    "start_time": "2022-08-15T10:13:52.477Z"
   },
   {
    "duration": 11,
    "start_time": "2022-08-15T10:13:56.029Z"
   },
   {
    "duration": 9,
    "start_time": "2022-08-15T10:13:56.251Z"
   },
   {
    "duration": 3,
    "start_time": "2022-08-15T10:16:48.906Z"
   },
   {
    "duration": 169,
    "start_time": "2022-08-15T10:16:49.070Z"
   },
   {
    "duration": 11,
    "start_time": "2022-08-15T10:16:49.241Z"
   },
   {
    "duration": 27,
    "start_time": "2022-08-15T10:16:49.406Z"
   },
   {
    "duration": 3,
    "start_time": "2022-08-15T10:16:49.658Z"
   },
   {
    "duration": 4,
    "start_time": "2022-08-15T10:16:51.367Z"
   },
   {
    "duration": 11,
    "start_time": "2022-08-15T10:16:51.532Z"
   },
   {
    "duration": 3,
    "start_time": "2022-08-15T10:16:51.700Z"
   },
   {
    "duration": 34,
    "start_time": "2022-08-15T10:16:52.142Z"
   },
   {
    "duration": 18,
    "start_time": "2022-08-15T10:16:53.035Z"
   },
   {
    "duration": 21,
    "start_time": "2022-08-15T10:16:53.196Z"
   },
   {
    "duration": 60,
    "start_time": "2022-08-15T10:16:53.364Z"
   },
   {
    "duration": 63,
    "start_time": "2022-08-15T10:16:54.131Z"
   },
   {
    "duration": 54,
    "start_time": "2022-08-15T10:16:54.551Z"
   },
   {
    "duration": 32,
    "start_time": "2022-08-15T10:16:55.030Z"
   },
   {
    "duration": 88,
    "start_time": "2022-08-15T10:16:55.879Z"
   },
   {
    "duration": 36,
    "start_time": "2022-08-15T10:16:56.038Z"
   },
   {
    "duration": 13,
    "start_time": "2022-08-15T10:16:56.539Z"
   },
   {
    "duration": 12,
    "start_time": "2022-08-15T10:16:56.703Z"
   },
   {
    "duration": 4,
    "start_time": "2022-08-15T10:16:56.954Z"
   },
   {
    "duration": 2,
    "start_time": "2022-08-15T10:16:57.841Z"
   },
   {
    "duration": 16,
    "start_time": "2022-08-15T10:16:58.025Z"
   },
   {
    "duration": 15,
    "start_time": "2022-08-15T10:16:58.178Z"
   },
   {
    "duration": 14,
    "start_time": "2022-08-15T10:16:58.354Z"
   },
   {
    "duration": 14,
    "start_time": "2022-08-15T10:16:58.528Z"
   },
   {
    "duration": 24,
    "start_time": "2022-08-15T10:16:58.680Z"
   },
   {
    "duration": 14,
    "start_time": "2022-08-15T10:16:58.853Z"
   },
   {
    "duration": 9,
    "start_time": "2022-08-15T10:16:59.198Z"
   },
   {
    "duration": 13,
    "start_time": "2022-08-15T10:17:00.163Z"
   },
   {
    "duration": 13,
    "start_time": "2022-08-15T10:17:00.524Z"
   },
   {
    "duration": 4,
    "start_time": "2022-08-15T10:19:03.654Z"
   },
   {
    "duration": 4,
    "start_time": "2022-08-15T10:19:26.125Z"
   },
   {
    "duration": 4,
    "start_time": "2022-08-15T10:20:54.774Z"
   },
   {
    "duration": 5,
    "start_time": "2022-08-15T10:21:14.177Z"
   },
   {
    "duration": 22,
    "start_time": "2022-08-15T10:32:27.576Z"
   },
   {
    "duration": 14,
    "start_time": "2022-08-15T10:33:40.051Z"
   },
   {
    "duration": 10,
    "start_time": "2022-08-15T10:33:40.526Z"
   },
   {
    "duration": 16,
    "start_time": "2022-08-15T10:33:40.965Z"
   },
   {
    "duration": 10,
    "start_time": "2022-08-15T10:33:41.397Z"
   },
   {
    "duration": 23,
    "start_time": "2022-08-15T10:34:22.050Z"
   },
   {
    "duration": 11,
    "start_time": "2022-08-15T10:34:22.430Z"
   },
   {
    "duration": 18,
    "start_time": "2022-08-15T10:34:22.995Z"
   },
   {
    "duration": 12,
    "start_time": "2022-08-15T10:34:23.750Z"
   },
   {
    "duration": 16,
    "start_time": "2022-08-15T10:34:51.144Z"
   },
   {
    "duration": 10,
    "start_time": "2022-08-15T10:34:53.030Z"
   },
   {
    "duration": 20,
    "start_time": "2022-08-15T10:35:26.828Z"
   },
   {
    "duration": 13,
    "start_time": "2022-08-15T10:35:26.983Z"
   },
   {
    "duration": 20,
    "start_time": "2022-08-15T10:35:27.134Z"
   },
   {
    "duration": 13,
    "start_time": "2022-08-15T10:35:27.311Z"
   },
   {
    "duration": 19,
    "start_time": "2022-08-15T10:35:50.776Z"
   },
   {
    "duration": 11,
    "start_time": "2022-08-15T10:35:50.927Z"
   },
   {
    "duration": 15,
    "start_time": "2022-08-15T10:35:51.070Z"
   },
   {
    "duration": 12,
    "start_time": "2022-08-15T10:35:51.203Z"
   },
   {
    "duration": 17,
    "start_time": "2022-08-15T10:37:29.422Z"
   },
   {
    "duration": 19,
    "start_time": "2022-08-15T10:37:33.584Z"
   },
   {
    "duration": 12,
    "start_time": "2022-08-15T10:37:34.672Z"
   },
   {
    "duration": 16,
    "start_time": "2022-08-15T10:37:34.855Z"
   },
   {
    "duration": 12,
    "start_time": "2022-08-15T10:37:34.966Z"
   },
   {
    "duration": 19,
    "start_time": "2022-08-15T10:38:13.576Z"
   },
   {
    "duration": 20,
    "start_time": "2022-08-15T10:38:14.383Z"
   },
   {
    "duration": 16,
    "start_time": "2022-08-15T10:38:14.858Z"
   },
   {
    "duration": 13,
    "start_time": "2022-08-15T10:38:15.259Z"
   },
   {
    "duration": 57,
    "start_time": "2022-08-15T10:38:58.384Z"
   },
   {
    "duration": 15,
    "start_time": "2022-08-15T10:39:04.212Z"
   },
   {
    "duration": 16,
    "start_time": "2022-08-15T10:39:09.016Z"
   },
   {
    "duration": 15,
    "start_time": "2022-08-15T10:39:20.827Z"
   },
   {
    "duration": 12,
    "start_time": "2022-08-15T10:40:13.867Z"
   },
   {
    "duration": 11,
    "start_time": "2022-08-15T10:40:18.131Z"
   },
   {
    "duration": 16,
    "start_time": "2022-08-15T10:40:30.460Z"
   },
   {
    "duration": 14,
    "start_time": "2022-08-15T10:40:30.670Z"
   },
   {
    "duration": 18,
    "start_time": "2022-08-15T10:40:30.829Z"
   },
   {
    "duration": 12,
    "start_time": "2022-08-15T10:40:31.012Z"
   },
   {
    "duration": 58,
    "start_time": "2022-08-15T10:42:04.071Z"
   },
   {
    "duration": 4,
    "start_time": "2022-08-15T10:42:18.068Z"
   },
   {
    "duration": 1116,
    "start_time": "2022-08-15T10:42:19.927Z"
   },
   {
    "duration": 5,
    "start_time": "2022-08-15T10:42:33.308Z"
   },
   {
    "duration": 17,
    "start_time": "2022-08-15T10:42:34.133Z"
   },
   {
    "duration": 13,
    "start_time": "2022-08-15T10:42:34.554Z"
   },
   {
    "duration": 15,
    "start_time": "2022-08-15T10:42:35.266Z"
   },
   {
    "duration": 11,
    "start_time": "2022-08-15T10:42:35.800Z"
   },
   {
    "duration": 12,
    "start_time": "2022-08-15T10:43:48.564Z"
   },
   {
    "duration": 6,
    "start_time": "2022-08-15T10:43:57.513Z"
   },
   {
    "duration": 6,
    "start_time": "2022-08-15T10:45:02.177Z"
   },
   {
    "duration": 7,
    "start_time": "2022-08-15T10:45:05.138Z"
   },
   {
    "duration": 5,
    "start_time": "2022-08-15T10:45:14.045Z"
   },
   {
    "duration": 402,
    "start_time": "2022-09-11T18:52:43.638Z"
   },
   {
    "duration": 68,
    "start_time": "2022-09-11T18:54:57.121Z"
   },
   {
    "duration": 2,
    "start_time": "2022-09-11T18:55:07.339Z"
   },
   {
    "duration": 247,
    "start_time": "2022-09-11T18:55:07.343Z"
   },
   {
    "duration": 21,
    "start_time": "2022-09-11T18:55:07.592Z"
   },
   {
    "duration": 39,
    "start_time": "2022-09-11T18:55:07.614Z"
   },
   {
    "duration": 6,
    "start_time": "2022-09-11T18:58:56.273Z"
   },
   {
    "duration": 11,
    "start_time": "2022-09-11T18:59:16.292Z"
   },
   {
    "duration": 22,
    "start_time": "2022-09-11T18:59:35.697Z"
   },
   {
    "duration": 5,
    "start_time": "2022-09-11T19:00:03.017Z"
   },
   {
    "duration": 10,
    "start_time": "2022-09-11T19:05:02.090Z"
   },
   {
    "duration": 12,
    "start_time": "2022-09-11T19:05:36.940Z"
   },
   {
    "duration": 4,
    "start_time": "2022-09-11T19:09:05.486Z"
   },
   {
    "duration": 24,
    "start_time": "2022-09-11T19:12:26.232Z"
   },
   {
    "duration": 46,
    "start_time": "2022-09-12T13:29:18.971Z"
   },
   {
    "duration": 381,
    "start_time": "2022-09-12T13:29:30.661Z"
   },
   {
    "duration": 201,
    "start_time": "2022-09-12T13:29:31.044Z"
   },
   {
    "duration": 16,
    "start_time": "2022-09-12T13:29:31.246Z"
   },
   {
    "duration": 29,
    "start_time": "2022-09-12T13:29:31.263Z"
   },
   {
    "duration": 2,
    "start_time": "2022-09-12T13:29:31.293Z"
   },
   {
    "duration": 8,
    "start_time": "2022-09-12T13:29:31.297Z"
   },
   {
    "duration": 16,
    "start_time": "2022-09-12T13:29:31.306Z"
   },
   {
    "duration": 15,
    "start_time": "2022-09-12T13:29:31.324Z"
   },
   {
    "duration": 33,
    "start_time": "2022-09-12T13:29:31.341Z"
   },
   {
    "duration": 37,
    "start_time": "2022-09-12T13:29:31.376Z"
   },
   {
    "duration": 49,
    "start_time": "2022-09-12T13:29:31.415Z"
   },
   {
    "duration": 58,
    "start_time": "2022-09-12T13:29:32.890Z"
   },
   {
    "duration": 67,
    "start_time": "2022-09-12T13:30:22.576Z"
   },
   {
    "duration": 57,
    "start_time": "2022-09-12T13:31:05.412Z"
   },
   {
    "duration": 55,
    "start_time": "2022-09-12T13:31:45.504Z"
   },
   {
    "duration": 56,
    "start_time": "2022-09-12T13:31:55.672Z"
   },
   {
    "duration": 2,
    "start_time": "2022-09-12T13:34:25.906Z"
   },
   {
    "duration": 150,
    "start_time": "2022-09-12T13:34:25.910Z"
   },
   {
    "duration": 10,
    "start_time": "2022-09-12T13:34:26.061Z"
   },
   {
    "duration": 24,
    "start_time": "2022-09-12T13:34:26.073Z"
   },
   {
    "duration": 15,
    "start_time": "2022-09-12T13:34:26.098Z"
   },
   {
    "duration": 6,
    "start_time": "2022-09-12T13:34:26.114Z"
   },
   {
    "duration": 9,
    "start_time": "2022-09-12T13:34:26.122Z"
   },
   {
    "duration": 7,
    "start_time": "2022-09-12T13:34:26.133Z"
   },
   {
    "duration": 23,
    "start_time": "2022-09-12T13:34:26.142Z"
   },
   {
    "duration": 25,
    "start_time": "2022-09-12T13:34:26.166Z"
   },
   {
    "duration": 22,
    "start_time": "2022-09-12T13:34:26.192Z"
   },
   {
    "duration": 70,
    "start_time": "2022-09-12T13:34:26.216Z"
   },
   {
    "duration": 69,
    "start_time": "2022-09-12T13:34:26.287Z"
   },
   {
    "duration": 59,
    "start_time": "2022-09-12T13:35:21.817Z"
   },
   {
    "duration": 81,
    "start_time": "2022-09-12T13:35:32.695Z"
   },
   {
    "duration": 63,
    "start_time": "2022-09-12T13:35:39.622Z"
   },
   {
    "duration": 60,
    "start_time": "2022-09-12T13:36:12.387Z"
   },
   {
    "duration": 67,
    "start_time": "2022-09-12T13:40:30.207Z"
   },
   {
    "duration": 43,
    "start_time": "2022-09-12T13:41:27.117Z"
   },
   {
    "duration": 8,
    "start_time": "2022-09-12T13:42:28.141Z"
   },
   {
    "duration": 85,
    "start_time": "2022-09-12T13:42:44.128Z"
   },
   {
    "duration": 30,
    "start_time": "2022-09-12T13:44:01.047Z"
   },
   {
    "duration": 29,
    "start_time": "2022-09-12T13:44:01.494Z"
   },
   {
    "duration": 0,
    "start_time": "2022-09-12T13:45:03.972Z"
   },
   {
    "duration": 820,
    "start_time": "2022-09-12T13:45:22.864Z"
   },
   {
    "duration": 2,
    "start_time": "2022-09-12T13:45:35.595Z"
   },
   {
    "duration": 150,
    "start_time": "2022-09-12T13:45:35.599Z"
   },
   {
    "duration": 9,
    "start_time": "2022-09-12T13:45:35.750Z"
   },
   {
    "duration": 29,
    "start_time": "2022-09-12T13:45:35.761Z"
   },
   {
    "duration": 2,
    "start_time": "2022-09-12T13:45:35.792Z"
   },
   {
    "duration": 14,
    "start_time": "2022-09-12T13:45:35.795Z"
   },
   {
    "duration": 9,
    "start_time": "2022-09-12T13:45:35.811Z"
   },
   {
    "duration": 6,
    "start_time": "2022-09-12T13:45:35.821Z"
   },
   {
    "duration": 25,
    "start_time": "2022-09-12T13:45:35.828Z"
   },
   {
    "duration": 15,
    "start_time": "2022-09-12T13:45:35.855Z"
   },
   {
    "duration": 44,
    "start_time": "2022-09-12T13:45:35.873Z"
   },
   {
    "duration": 59,
    "start_time": "2022-09-12T13:45:35.918Z"
   },
   {
    "duration": 72,
    "start_time": "2022-09-12T13:45:35.979Z"
   },
   {
    "duration": 57,
    "start_time": "2022-09-12T13:45:36.052Z"
   },
   {
    "duration": 36,
    "start_time": "2022-09-12T13:45:36.111Z"
   },
   {
    "duration": 69,
    "start_time": "2022-09-12T13:49:22.292Z"
   },
   {
    "duration": 41,
    "start_time": "2022-09-12T13:50:28.948Z"
   },
   {
    "duration": 27,
    "start_time": "2022-09-12T13:52:26.341Z"
   },
   {
    "duration": 3796,
    "start_time": "2022-09-12T13:52:35.891Z"
   },
   {
    "duration": 28,
    "start_time": "2022-09-12T13:53:37.730Z"
   },
   {
    "duration": 10,
    "start_time": "2022-09-12T13:54:21.248Z"
   },
   {
    "duration": 6,
    "start_time": "2022-09-12T13:58:09.591Z"
   },
   {
    "duration": 9,
    "start_time": "2022-09-12T13:58:22.318Z"
   },
   {
    "duration": 11,
    "start_time": "2022-09-12T14:01:14.735Z"
   },
   {
    "duration": 3,
    "start_time": "2022-09-12T14:09:17.843Z"
   },
   {
    "duration": 4,
    "start_time": "2022-09-12T14:09:20.820Z"
   },
   {
    "duration": 3,
    "start_time": "2022-09-12T14:10:06.698Z"
   },
   {
    "duration": 56,
    "start_time": "2022-09-12T14:13:20.333Z"
   },
   {
    "duration": 3,
    "start_time": "2022-09-12T14:13:27.797Z"
   },
   {
    "duration": 3,
    "start_time": "2022-09-12T14:14:53.599Z"
   },
   {
    "duration": 3,
    "start_time": "2022-09-12T14:15:50.588Z"
   },
   {
    "duration": 3,
    "start_time": "2022-09-12T14:20:31.997Z"
   },
   {
    "duration": 16,
    "start_time": "2022-09-12T14:23:20.568Z"
   },
   {
    "duration": 13,
    "start_time": "2022-09-12T14:28:26.180Z"
   },
   {
    "duration": 16,
    "start_time": "2022-09-12T14:28:40.785Z"
   },
   {
    "duration": 16,
    "start_time": "2022-09-12T14:29:34.086Z"
   },
   {
    "duration": 12,
    "start_time": "2022-09-12T14:29:45.150Z"
   },
   {
    "duration": 13,
    "start_time": "2022-09-12T14:29:56.809Z"
   },
   {
    "duration": 3,
    "start_time": "2022-09-12T14:30:18.259Z"
   },
   {
    "duration": 3,
    "start_time": "2022-09-12T14:30:57.125Z"
   },
   {
    "duration": 4,
    "start_time": "2022-09-12T14:35:15.063Z"
   },
   {
    "duration": 24,
    "start_time": "2022-09-12T14:40:48.192Z"
   },
   {
    "duration": 3,
    "start_time": "2022-09-12T15:01:46.854Z"
   },
   {
    "duration": 4,
    "start_time": "2022-09-12T15:20:12.590Z"
   },
   {
    "duration": 3,
    "start_time": "2022-09-12T15:22:05.774Z"
   },
   {
    "duration": 16,
    "start_time": "2022-09-12T15:52:55.807Z"
   },
   {
    "duration": 11,
    "start_time": "2022-09-12T15:53:01.009Z"
   },
   {
    "duration": 14,
    "start_time": "2022-09-12T15:53:05.478Z"
   },
   {
    "duration": 10,
    "start_time": "2022-09-12T15:53:08.463Z"
   },
   {
    "duration": 8,
    "start_time": "2022-09-12T16:06:27.086Z"
   },
   {
    "duration": 7,
    "start_time": "2022-09-12T16:07:57.884Z"
   },
   {
    "duration": 5,
    "start_time": "2022-09-12T16:08:31.023Z"
   },
   {
    "duration": 425,
    "start_time": "2023-03-15T01:06:08.325Z"
   },
   {
    "duration": 282,
    "start_time": "2023-03-15T01:06:09.275Z"
   },
   {
    "duration": 4,
    "start_time": "2023-03-15T01:06:23.960Z"
   },
   {
    "duration": 579,
    "start_time": "2023-03-15T01:06:24.192Z"
   }
  ],
  "colab": {
   "collapsed_sections": [
    "E0vqbgi9ay0H",
    "VUC88oWjTJw2"
   ],
   "name": "automatization_template_upd4.ipynb",
   "provenance": []
  },
  "kernelspec": {
   "display_name": "Python 3",
   "language": "python",
   "name": "python3"
  },
  "language_info": {
   "codemirror_mode": {
    "name": "ipython",
    "version": 3
   },
   "file_extension": ".py",
   "mimetype": "text/x-python",
   "name": "python",
   "nbconvert_exporter": "python",
   "pygments_lexer": "ipython3",
   "version": "3.13.1"
  },
  "toc": {
   "base_numbering": 1,
   "nav_menu": {
    "height": "215px",
    "width": "403px"
   },
   "number_sections": true,
   "sideBar": true,
   "skip_h1_title": true,
   "title_cell": "Table of Contents",
   "title_sidebar": "Contents",
   "toc_cell": false,
   "toc_position": {
    "height": "calc(100% - 180px)",
    "left": "10px",
    "top": "150px",
    "width": "285.825px"
   },
   "toc_section_display": true,
   "toc_window_display": false
  }
 },
 "nbformat": 4,
 "nbformat_minor": 1
}
